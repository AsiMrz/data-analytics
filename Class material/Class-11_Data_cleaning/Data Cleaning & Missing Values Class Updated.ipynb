{
 "cells": [
  {
   "cell_type": "code",
   "execution_count": 20,
   "metadata": {},
   "outputs": [],
   "source": [
    "import pandas as pd\n",
    "import numpy as np\n",
    "import seaborn as sns\n",
    "from time import sleep\n",
    "from copy import deepcopy\n",
    "from bs4 import BeautifulSoup as bs\n",
    "import requests\n",
    "\n",
    "sns.set(rc = {'figure.figsize': (12, 6)})"
   ]
  },
  {
   "cell_type": "markdown",
   "metadata": {},
   "source": [
    "# Data Cleaning & Missing Values"
   ]
  },
  {
   "cell_type": "markdown",
   "metadata": {},
   "source": [
    "### Load the Data"
   ]
  },
  {
   "cell_type": "code",
   "execution_count": 21,
   "metadata": {},
   "outputs": [],
   "source": [
    "df = pd.read_csv('https://raw.githubusercontent.com/ReDI-School/data-analytics/master/Class%20material/Class-11_Data_cleaning/berlin_housing_with_scraped.csv')"
   ]
  },
  {
   "cell_type": "code",
   "execution_count": 22,
   "metadata": {},
   "outputs": [
    {
     "data": {
      "text/html": [
       "<div>\n",
       "<style scoped>\n",
       "    .dataframe tbody tr th:only-of-type {\n",
       "        vertical-align: middle;\n",
       "    }\n",
       "\n",
       "    .dataframe tbody tr th {\n",
       "        vertical-align: top;\n",
       "    }\n",
       "\n",
       "    .dataframe thead th {\n",
       "        text-align: right;\n",
       "    }\n",
       "</style>\n",
       "<table border=\"1\" class=\"dataframe\">\n",
       "  <thead>\n",
       "    <tr style=\"text-align: right;\">\n",
       "      <th></th>\n",
       "      <th>cold_rent</th>\n",
       "      <th>utilities</th>\n",
       "      <th>heating_costs</th>\n",
       "      <th>security_deposit</th>\n",
       "      <th>parking_space</th>\n",
       "      <th>renovated_date</th>\n",
       "      <th>property_condition</th>\n",
       "      <th>furnishing</th>\n",
       "      <th>heating_type</th>\n",
       "      <th>energy_sources</th>\n",
       "      <th>energy_certificate</th>\n",
       "      <th>type_of_certificate</th>\n",
       "      <th>energy_requirement</th>\n",
       "      <th>efficiency_class</th>\n",
       "      <th>tags</th>\n",
       "    </tr>\n",
       "  </thead>\n",
       "  <tbody>\n",
       "    <tr>\n",
       "      <th>0</th>\n",
       "      <td>2.199€</td>\n",
       "      <td>+460€</td>\n",
       "      <td>in</td>\n",
       "      <td>3</td>\n",
       "      <td>120€</td>\n",
       "      <td>NaN</td>\n",
       "      <td>New</td>\n",
       "      <td>NaN</td>\n",
       "      <td>Underfloor Heating</td>\n",
       "      <td>NaN</td>\n",
       "      <td>NaN</td>\n",
       "      <td>Bedarfsausweis</td>\n",
       "      <td>NaN</td>\n",
       "      <td>B</td>\n",
       "      <td>['Balkon', 'Terrasse Balkon', 'Terrasse Person...</td>\n",
       "    </tr>\n",
       "    <tr>\n",
       "      <th>1</th>\n",
       "      <td>973,51€</td>\n",
       "      <td>+226,49€</td>\n",
       "      <td>in</td>\n",
       "      <td>2920,53</td>\n",
       "      <td>NaN</td>\n",
       "      <td>NaN</td>\n",
       "      <td>New</td>\n",
       "      <td>Gehobene Qualität</td>\n",
       "      <td>Central Heating</td>\n",
       "      <td>Fernwärme Energieausweis liegt vor</td>\n",
       "      <td>liegt vor</td>\n",
       "      <td>NaN</td>\n",
       "      <td>NaN</td>\n",
       "      <td>NaN</td>\n",
       "      <td>['Balkon', 'Terrasse Balkon', 'Terrasse Person...</td>\n",
       "    </tr>\n",
       "    <tr>\n",
       "      <th>2</th>\n",
       "      <td>799€</td>\n",
       "      <td>+90€</td>\n",
       "      <td>+90€</td>\n",
       "      <td>Drei</td>\n",
       "      <td>NaN</td>\n",
       "      <td>NaN</td>\n",
       "      <td>Groomed</td>\n",
       "      <td>Normale Qualität</td>\n",
       "      <td>Central Heating</td>\n",
       "      <td>Fernwärme Energieausweis liegt vor</td>\n",
       "      <td>liegt vor</td>\n",
       "      <td>Verbrauchsausweis Energie­ver­brauchs­kennwert...</td>\n",
       "      <td>NaN</td>\n",
       "      <td>NaN</td>\n",
       "      <td>['Balkon', 'Terrasse Balkon', 'Terrasse Person...</td>\n",
       "    </tr>\n",
       "    <tr>\n",
       "      <th>3</th>\n",
       "      <td>NaN</td>\n",
       "      <td>NaN</td>\n",
       "      <td>NaN</td>\n",
       "      <td>NaN</td>\n",
       "      <td>NaN</td>\n",
       "      <td>NaN</td>\n",
       "      <td>NaN</td>\n",
       "      <td>NaN</td>\n",
       "      <td>NaN</td>\n",
       "      <td>NaN</td>\n",
       "      <td>NaN</td>\n",
       "      <td>NaN</td>\n",
       "      <td>NaN</td>\n",
       "      <td>NaN</td>\n",
       "      <td>['Balkon', 'Terrasse Balkon', 'Terrasse Person...</td>\n",
       "    </tr>\n",
       "    <tr>\n",
       "      <th>4</th>\n",
       "      <td>NaN</td>\n",
       "      <td>NaN</td>\n",
       "      <td>NaN</td>\n",
       "      <td>NaN</td>\n",
       "      <td>NaN</td>\n",
       "      <td>NaN</td>\n",
       "      <td>New</td>\n",
       "      <td>Gehobene Qualität</td>\n",
       "      <td>Central Heating</td>\n",
       "      <td>Fernwärme Energieausweis liegt zur Besichtigun...</td>\n",
       "      <td>liegt zur Besichtigung vor</td>\n",
       "      <td>NaN</td>\n",
       "      <td>NaN</td>\n",
       "      <td>NaN</td>\n",
       "      <td>['Balkon', 'Terrasse Balkon', 'Terrasse Person...</td>\n",
       "    </tr>\n",
       "  </tbody>\n",
       "</table>\n",
       "</div>"
      ],
      "text/plain": [
       "  cold_rent utilities heating_costs security_deposit parking_space  \\\n",
       "0    2.199€     +460€            in                3          120€   \n",
       "1   973,51€  +226,49€            in          2920,53           NaN   \n",
       "2      799€      +90€          +90€             Drei           NaN   \n",
       "3       NaN       NaN           NaN              NaN           NaN   \n",
       "4       NaN       NaN           NaN              NaN           NaN   \n",
       "\n",
       "   renovated_date property_condition         furnishing        heating_type  \\\n",
       "0             NaN                New                NaN  Underfloor Heating   \n",
       "1             NaN                New  Gehobene Qualität     Central Heating   \n",
       "2             NaN            Groomed   Normale Qualität     Central Heating   \n",
       "3             NaN                NaN                NaN                 NaN   \n",
       "4             NaN                New  Gehobene Qualität     Central Heating   \n",
       "\n",
       "                                      energy_sources  \\\n",
       "0                                                NaN   \n",
       "1                 Fernwärme Energieausweis liegt vor   \n",
       "2                 Fernwärme Energieausweis liegt vor   \n",
       "3                                                NaN   \n",
       "4  Fernwärme Energieausweis liegt zur Besichtigun...   \n",
       "\n",
       "           energy_certificate  \\\n",
       "0                         NaN   \n",
       "1                   liegt vor   \n",
       "2                   liegt vor   \n",
       "3                         NaN   \n",
       "4  liegt zur Besichtigung vor   \n",
       "\n",
       "                                 type_of_certificate energy_requirement  \\\n",
       "0                                     Bedarfsausweis                NaN   \n",
       "1                                                NaN                NaN   \n",
       "2  Verbrauchsausweis Energie­ver­brauchs­kennwert...                NaN   \n",
       "3                                                NaN                NaN   \n",
       "4                                                NaN                NaN   \n",
       "\n",
       "  efficiency_class                                               tags  \n",
       "0                B  ['Balkon', 'Terrasse Balkon', 'Terrasse Person...  \n",
       "1              NaN  ['Balkon', 'Terrasse Balkon', 'Terrasse Person...  \n",
       "2              NaN  ['Balkon', 'Terrasse Balkon', 'Terrasse Person...  \n",
       "3              NaN  ['Balkon', 'Terrasse Balkon', 'Terrasse Person...  \n",
       "4              NaN  ['Balkon', 'Terrasse Balkon', 'Terrasse Person...  "
      ]
     },
     "execution_count": 22,
     "metadata": {},
     "output_type": "execute_result"
    }
   ],
   "source": [
    "df.iloc[:,7:].head()"
   ]
  },
  {
   "cell_type": "markdown",
   "metadata": {},
   "source": [
    "#### Translate"
   ]
  },
  {
   "cell_type": "code",
   "execution_count": 23,
   "metadata": {},
   "outputs": [],
   "source": [
    "# heating_type_map = {\n",
    "#     'Fußbodenheizung': 'Underfloor Heating',\n",
    "#     'Zentralheizung': 'Central Heating',\n",
    "#     'Fernwärme': 'District Heating',\n",
    "#     'Etagenheizung': 'Floor Heating',\n",
    "#     'Fernwärme Energieausweis liegt vor': 'District Heating',\n",
    "#     'Zentralheizung Energieausweis liegt vor': 'Central Heating',\n",
    "#     'Fernwärme Energieausweis liegt zur Besichtigung vor': 'District Heating',\n",
    "#     'Gas-Heizung': 'Gas Heating',\n",
    "#     'Etagenheizung Energieausweis liegt vor': 'Floor Heating',\n",
    "#     'Fernwärme Energieausweis laut Gesetz nicht erforderlich': 'District Heating',\n",
    "#     'Fußbodenheizung Energieausweis laut Gesetz nicht erforderlich': 'Underfloor Heating',\n",
    "#     'Fußbodenheizung Energieausweis liegt zur Besichtigung vor': 'Underfloor Heating',\n",
    "#     'Blockheizkraftwerke': 'CHP Plants',\n",
    "#     'Fußbodenheizung Energieausweis liegt vor': 'Underfloor Heating',\n",
    "#     'Zentralheizung Energieausweis liegt zur Besichtigung vor': 'Central Heating',\n",
    "#     'Gas-Heizung Energieausweis liegt vor': 'Gas Heating',\n",
    "#     'Holz-Pelletheizung': 'Wood Pellet Heating',\n",
    "# }\n",
    "\n",
    "# df['heating_type'] = df.heating_type.apply(lambda x: heating_type_map.get(x, np.nan))\n",
    "\n",
    "# pc_map = {\n",
    "#     'Erstbezug': 'New',\n",
    "#     'Gepflegt': 'Groomed',\n",
    "#     'Neuwertig': 'Mint Condition',\n",
    "#     'Vollständig renoviert': 'Completely Renovated',\n",
    "#     'Erstbezug nach Sanierung': 'After Renovation',\n",
    "#     'Modernisiert': 'Modernized',\n",
    "#     'Renovierungsbedürftig': 'Needs Renovation',\n",
    "#     'Saniert': 'Refurbished',\n",
    "#     'Gepflegt Energieausweis liegt vor': 'Well Maintained',\n",
    "# }\n",
    "\n",
    "# df['property_condition'] = df.property_condition.apply(lambda x: pc_map.get(x, np.nan))"
   ]
  },
  {
   "cell_type": "markdown",
   "metadata": {},
   "source": [
    "### Check the Data's `shape`,  `head`, and the `dtypes`"
   ]
  },
  {
   "cell_type": "code",
   "execution_count": 24,
   "metadata": {},
   "outputs": [
    {
     "data": {
      "text/plain": [
       "(764, 22)"
      ]
     },
     "execution_count": 24,
     "metadata": {},
     "output_type": "execute_result"
    }
   ],
   "source": [
    "df.shape"
   ]
  },
  {
   "cell_type": "code",
   "execution_count": 25,
   "metadata": {},
   "outputs": [
    {
     "data": {
      "text/html": [
       "<div>\n",
       "<style scoped>\n",
       "    .dataframe tbody tr th:only-of-type {\n",
       "        vertical-align: middle;\n",
       "    }\n",
       "\n",
       "    .dataframe tbody tr th {\n",
       "        vertical-align: top;\n",
       "    }\n",
       "\n",
       "    .dataframe thead th {\n",
       "        text-align: right;\n",
       "    }\n",
       "</style>\n",
       "<table border=\"1\" class=\"dataframe\">\n",
       "  <thead>\n",
       "    <tr style=\"text-align: right;\">\n",
       "      <th></th>\n",
       "      <th>url</th>\n",
       "      <th>region</th>\n",
       "      <th>condition</th>\n",
       "      <th>rooms</th>\n",
       "      <th>rent</th>\n",
       "      <th>year_construction</th>\n",
       "      <th>space</th>\n",
       "      <th>cold_rent</th>\n",
       "      <th>utilities</th>\n",
       "      <th>heating_costs</th>\n",
       "      <th>...</th>\n",
       "      <th>renovated_date</th>\n",
       "      <th>property_condition</th>\n",
       "      <th>furnishing</th>\n",
       "      <th>heating_type</th>\n",
       "      <th>energy_sources</th>\n",
       "      <th>energy_certificate</th>\n",
       "      <th>type_of_certificate</th>\n",
       "      <th>energy_requirement</th>\n",
       "      <th>efficiency_class</th>\n",
       "      <th>tags</th>\n",
       "    </tr>\n",
       "  </thead>\n",
       "  <tbody>\n",
       "    <tr>\n",
       "      <th>0</th>\n",
       "      <td>https://www.immobilienscout24.de/expose/116051687</td>\n",
       "      <td>Mitte</td>\n",
       "      <td>first_time_use</td>\n",
       "      <td>4.0</td>\n",
       "      <td>2659.0</td>\n",
       "      <td>2019</td>\n",
       "      <td>117.20</td>\n",
       "      <td>2.199€</td>\n",
       "      <td>+460€</td>\n",
       "      <td>in</td>\n",
       "      <td>...</td>\n",
       "      <td>NaN</td>\n",
       "      <td>New</td>\n",
       "      <td>NaN</td>\n",
       "      <td>Underfloor Heating</td>\n",
       "      <td>NaN</td>\n",
       "      <td>NaN</td>\n",
       "      <td>Bedarfsausweis</td>\n",
       "      <td>NaN</td>\n",
       "      <td>B</td>\n",
       "      <td>['Balkon', 'Terrasse Balkon', 'Terrasse Person...</td>\n",
       "    </tr>\n",
       "    <tr>\n",
       "      <th>1</th>\n",
       "      <td>https://www.immobilienscout24.de/expose/115338103</td>\n",
       "      <td>Kreuzberg</td>\n",
       "      <td>first_time_use</td>\n",
       "      <td>1.0</td>\n",
       "      <td>1200.0</td>\n",
       "      <td>2020</td>\n",
       "      <td>29.33</td>\n",
       "      <td>973,51€</td>\n",
       "      <td>+226,49€</td>\n",
       "      <td>in</td>\n",
       "      <td>...</td>\n",
       "      <td>NaN</td>\n",
       "      <td>New</td>\n",
       "      <td>Gehobene Qualität</td>\n",
       "      <td>Central Heating</td>\n",
       "      <td>Fernwärme Energieausweis liegt vor</td>\n",
       "      <td>liegt vor</td>\n",
       "      <td>NaN</td>\n",
       "      <td>NaN</td>\n",
       "      <td>NaN</td>\n",
       "      <td>['Balkon', 'Terrasse Balkon', 'Terrasse Person...</td>\n",
       "    </tr>\n",
       "    <tr>\n",
       "      <th>2</th>\n",
       "      <td>https://www.immobilienscout24.de/expose/116458710</td>\n",
       "      <td>Köpenick</td>\n",
       "      <td>well_kept</td>\n",
       "      <td>2.0</td>\n",
       "      <td>979.0</td>\n",
       "      <td>1997</td>\n",
       "      <td>83.61</td>\n",
       "      <td>799€</td>\n",
       "      <td>+90€</td>\n",
       "      <td>+90€</td>\n",
       "      <td>...</td>\n",
       "      <td>NaN</td>\n",
       "      <td>Groomed</td>\n",
       "      <td>Normale Qualität</td>\n",
       "      <td>Central Heating</td>\n",
       "      <td>Fernwärme Energieausweis liegt vor</td>\n",
       "      <td>liegt vor</td>\n",
       "      <td>Verbrauchsausweis Energie­ver­brauchs­kennwert...</td>\n",
       "      <td>NaN</td>\n",
       "      <td>NaN</td>\n",
       "      <td>['Balkon', 'Terrasse Balkon', 'Terrasse Person...</td>\n",
       "    </tr>\n",
       "  </tbody>\n",
       "</table>\n",
       "<p>3 rows × 22 columns</p>\n",
       "</div>"
      ],
      "text/plain": [
       "                                                 url     region  \\\n",
       "0  https://www.immobilienscout24.de/expose/116051687      Mitte   \n",
       "1  https://www.immobilienscout24.de/expose/115338103  Kreuzberg   \n",
       "2  https://www.immobilienscout24.de/expose/116458710   Köpenick   \n",
       "\n",
       "        condition  rooms    rent  year_construction   space cold_rent  \\\n",
       "0  first_time_use    4.0  2659.0               2019  117.20    2.199€   \n",
       "1  first_time_use    1.0  1200.0               2020   29.33   973,51€   \n",
       "2       well_kept    2.0   979.0               1997   83.61      799€   \n",
       "\n",
       "  utilities heating_costs  ... renovated_date property_condition  \\\n",
       "0     +460€            in  ...            NaN                New   \n",
       "1  +226,49€            in  ...            NaN                New   \n",
       "2      +90€          +90€  ...            NaN            Groomed   \n",
       "\n",
       "          furnishing        heating_type                      energy_sources  \\\n",
       "0                NaN  Underfloor Heating                                 NaN   \n",
       "1  Gehobene Qualität     Central Heating  Fernwärme Energieausweis liegt vor   \n",
       "2   Normale Qualität     Central Heating  Fernwärme Energieausweis liegt vor   \n",
       "\n",
       "  energy_certificate                                type_of_certificate  \\\n",
       "0                NaN                                     Bedarfsausweis   \n",
       "1          liegt vor                                                NaN   \n",
       "2          liegt vor  Verbrauchsausweis Energie­ver­brauchs­kennwert...   \n",
       "\n",
       "  energy_requirement efficiency_class  \\\n",
       "0                NaN                B   \n",
       "1                NaN              NaN   \n",
       "2                NaN              NaN   \n",
       "\n",
       "                                                tags  \n",
       "0  ['Balkon', 'Terrasse Balkon', 'Terrasse Person...  \n",
       "1  ['Balkon', 'Terrasse Balkon', 'Terrasse Person...  \n",
       "2  ['Balkon', 'Terrasse Balkon', 'Terrasse Person...  \n",
       "\n",
       "[3 rows x 22 columns]"
      ]
     },
     "execution_count": 25,
     "metadata": {},
     "output_type": "execute_result"
    }
   ],
   "source": [
    "df.head(3)"
   ]
  },
  {
   "cell_type": "code",
   "execution_count": 26,
   "metadata": {},
   "outputs": [
    {
     "data": {
      "text/plain": [
       "url                     object\n",
       "region                  object\n",
       "condition               object\n",
       "rooms                  float64\n",
       "rent                   float64\n",
       "year_construction        int64\n",
       "space                  float64\n",
       "cold_rent               object\n",
       "utilities               object\n",
       "heating_costs           object\n",
       "security_deposit        object\n",
       "parking_space           object\n",
       "renovated_date         float64\n",
       "property_condition      object\n",
       "furnishing              object\n",
       "heating_type            object\n",
       "energy_sources          object\n",
       "energy_certificate      object\n",
       "type_of_certificate     object\n",
       "energy_requirement      object\n",
       "efficiency_class        object\n",
       "tags                    object\n",
       "dtype: object"
      ]
     },
     "execution_count": 26,
     "metadata": {},
     "output_type": "execute_result"
    }
   ],
   "source": [
    "df.dtypes"
   ]
  },
  {
   "cell_type": "markdown",
   "metadata": {},
   "source": [
    "### First Question: Is there missing data? If yes, how much?"
   ]
  },
  {
   "cell_type": "code",
   "execution_count": 27,
   "metadata": {},
   "outputs": [
    {
     "data": {
      "text/plain": [
       "0      120€\n",
       "10     120€\n",
       "15     150€\n",
       "19     120€\n",
       "29     150€\n",
       "       ... \n",
       "692     75€\n",
       "703    150€\n",
       "727    120€\n",
       "733    150€\n",
       "734    100€\n",
       "Name: parking_space, Length: 90, dtype: object"
      ]
     },
     "execution_count": 27,
     "metadata": {},
     "output_type": "execute_result"
    }
   ],
   "source": [
    "df.parking_space.dropna()"
   ]
  },
  {
   "cell_type": "code",
   "execution_count": 28,
   "metadata": {},
   "outputs": [
    {
     "data": {
      "text/plain": [
       "parking_space          0.882199\n",
       "renovated_date         0.744764\n",
       "efficiency_class       0.671466\n",
       "energy_requirement     0.573298\n",
       "security_deposit       0.496073\n",
       "heating_costs          0.442408\n",
       "cold_rent              0.442408\n",
       "utilities              0.442408\n",
       "furnishing             0.417539\n",
       "energy_certificate     0.409686\n",
       "type_of_certificate    0.388743\n",
       "energy_sources         0.353403\n",
       "property_condition     0.344241\n",
       "heating_type           0.325916\n",
       "rooms                  0.000000\n",
       "region                 0.000000\n",
       "condition              0.000000\n",
       "tags                   0.000000\n",
       "rent                   0.000000\n",
       "year_construction      0.000000\n",
       "space                  0.000000\n",
       "url                    0.000000\n",
       "dtype: float64"
      ]
     },
     "execution_count": 28,
     "metadata": {},
     "output_type": "execute_result"
    }
   ],
   "source": [
    "(df.isnull().sum() / len(df)).sort_values(ascending = False)"
   ]
  },
  {
   "cell_type": "markdown",
   "metadata": {},
   "source": [
    "## Clean `tags`\n",
    "\n",
    "At first glance, the data seems a bit odd (there is no difference between the first few rows), so let's look here to see if there is an easy win."
   ]
  },
  {
   "cell_type": "code",
   "execution_count": 29,
   "metadata": {},
   "outputs": [
    {
     "data": {
      "text/plain": [
       "\"['Balkon', 'Terrasse Balkon', 'Terrasse Personenaufzug Personenaufzug Einbauküche Einbauküche']\""
      ]
     },
     "execution_count": 29,
     "metadata": {},
     "output_type": "execute_result"
    }
   ],
   "source": [
    "df.tags.unique()[0]"
   ]
  },
  {
   "cell_type": "code",
   "execution_count": 30,
   "metadata": {},
   "outputs": [
    {
     "data": {
      "text/plain": [
       "array([4. , 1. , 2. , 3. , 3.5, 2.5, 5. , 1.5, 7. , 6. , 4.5])"
      ]
     },
     "execution_count": 30,
     "metadata": {},
     "output_type": "execute_result"
    }
   ],
   "source": [
    "df.rooms.unique()"
   ]
  },
  {
   "cell_type": "markdown",
   "metadata": {},
   "source": [
    "**Because there is only one value for `tags` one can assume that there was probably something wrong. For that reason, we can probably drop the column**"
   ]
  },
  {
   "cell_type": "code",
   "execution_count": 31,
   "metadata": {},
   "outputs": [],
   "source": [
    "df.drop('tags', axis = 1, inplace = True)"
   ]
  },
  {
   "cell_type": "code",
   "execution_count": 32,
   "metadata": {},
   "outputs": [
    {
     "data": {
      "text/html": [
       "<div>\n",
       "<style scoped>\n",
       "    .dataframe tbody tr th:only-of-type {\n",
       "        vertical-align: middle;\n",
       "    }\n",
       "\n",
       "    .dataframe tbody tr th {\n",
       "        vertical-align: top;\n",
       "    }\n",
       "\n",
       "    .dataframe thead th {\n",
       "        text-align: right;\n",
       "    }\n",
       "</style>\n",
       "<table border=\"1\" class=\"dataframe\">\n",
       "  <thead>\n",
       "    <tr style=\"text-align: right;\">\n",
       "      <th></th>\n",
       "      <th>url</th>\n",
       "      <th>region</th>\n",
       "      <th>condition</th>\n",
       "      <th>rooms</th>\n",
       "      <th>rent</th>\n",
       "      <th>year_construction</th>\n",
       "      <th>space</th>\n",
       "      <th>cold_rent</th>\n",
       "      <th>utilities</th>\n",
       "      <th>heating_costs</th>\n",
       "      <th>...</th>\n",
       "      <th>parking_space</th>\n",
       "      <th>renovated_date</th>\n",
       "      <th>property_condition</th>\n",
       "      <th>furnishing</th>\n",
       "      <th>heating_type</th>\n",
       "      <th>energy_sources</th>\n",
       "      <th>energy_certificate</th>\n",
       "      <th>type_of_certificate</th>\n",
       "      <th>energy_requirement</th>\n",
       "      <th>efficiency_class</th>\n",
       "    </tr>\n",
       "  </thead>\n",
       "  <tbody>\n",
       "    <tr>\n",
       "      <th>0</th>\n",
       "      <td>https://www.immobilienscout24.de/expose/116051687</td>\n",
       "      <td>Mitte</td>\n",
       "      <td>first_time_use</td>\n",
       "      <td>4.0</td>\n",
       "      <td>2659.0</td>\n",
       "      <td>2019</td>\n",
       "      <td>117.20</td>\n",
       "      <td>2.199€</td>\n",
       "      <td>+460€</td>\n",
       "      <td>in</td>\n",
       "      <td>...</td>\n",
       "      <td>120€</td>\n",
       "      <td>NaN</td>\n",
       "      <td>New</td>\n",
       "      <td>NaN</td>\n",
       "      <td>Underfloor Heating</td>\n",
       "      <td>NaN</td>\n",
       "      <td>NaN</td>\n",
       "      <td>Bedarfsausweis</td>\n",
       "      <td>NaN</td>\n",
       "      <td>B</td>\n",
       "    </tr>\n",
       "    <tr>\n",
       "      <th>1</th>\n",
       "      <td>https://www.immobilienscout24.de/expose/115338103</td>\n",
       "      <td>Kreuzberg</td>\n",
       "      <td>first_time_use</td>\n",
       "      <td>1.0</td>\n",
       "      <td>1200.0</td>\n",
       "      <td>2020</td>\n",
       "      <td>29.33</td>\n",
       "      <td>973,51€</td>\n",
       "      <td>+226,49€</td>\n",
       "      <td>in</td>\n",
       "      <td>...</td>\n",
       "      <td>NaN</td>\n",
       "      <td>NaN</td>\n",
       "      <td>New</td>\n",
       "      <td>Gehobene Qualität</td>\n",
       "      <td>Central Heating</td>\n",
       "      <td>Fernwärme Energieausweis liegt vor</td>\n",
       "      <td>liegt vor</td>\n",
       "      <td>NaN</td>\n",
       "      <td>NaN</td>\n",
       "      <td>NaN</td>\n",
       "    </tr>\n",
       "    <tr>\n",
       "      <th>2</th>\n",
       "      <td>https://www.immobilienscout24.de/expose/116458710</td>\n",
       "      <td>Köpenick</td>\n",
       "      <td>well_kept</td>\n",
       "      <td>2.0</td>\n",
       "      <td>979.0</td>\n",
       "      <td>1997</td>\n",
       "      <td>83.61</td>\n",
       "      <td>799€</td>\n",
       "      <td>+90€</td>\n",
       "      <td>+90€</td>\n",
       "      <td>...</td>\n",
       "      <td>NaN</td>\n",
       "      <td>NaN</td>\n",
       "      <td>Groomed</td>\n",
       "      <td>Normale Qualität</td>\n",
       "      <td>Central Heating</td>\n",
       "      <td>Fernwärme Energieausweis liegt vor</td>\n",
       "      <td>liegt vor</td>\n",
       "      <td>Verbrauchsausweis Energie­ver­brauchs­kennwert...</td>\n",
       "      <td>NaN</td>\n",
       "      <td>NaN</td>\n",
       "    </tr>\n",
       "  </tbody>\n",
       "</table>\n",
       "<p>3 rows × 21 columns</p>\n",
       "</div>"
      ],
      "text/plain": [
       "                                                 url     region  \\\n",
       "0  https://www.immobilienscout24.de/expose/116051687      Mitte   \n",
       "1  https://www.immobilienscout24.de/expose/115338103  Kreuzberg   \n",
       "2  https://www.immobilienscout24.de/expose/116458710   Köpenick   \n",
       "\n",
       "        condition  rooms    rent  year_construction   space cold_rent  \\\n",
       "0  first_time_use    4.0  2659.0               2019  117.20    2.199€   \n",
       "1  first_time_use    1.0  1200.0               2020   29.33   973,51€   \n",
       "2       well_kept    2.0   979.0               1997   83.61      799€   \n",
       "\n",
       "  utilities heating_costs  ... parking_space renovated_date  \\\n",
       "0     +460€            in  ...          120€            NaN   \n",
       "1  +226,49€            in  ...           NaN            NaN   \n",
       "2      +90€          +90€  ...           NaN            NaN   \n",
       "\n",
       "   property_condition         furnishing        heating_type  \\\n",
       "0                 New                NaN  Underfloor Heating   \n",
       "1                 New  Gehobene Qualität     Central Heating   \n",
       "2             Groomed   Normale Qualität     Central Heating   \n",
       "\n",
       "                       energy_sources energy_certificate  \\\n",
       "0                                 NaN                NaN   \n",
       "1  Fernwärme Energieausweis liegt vor          liegt vor   \n",
       "2  Fernwärme Energieausweis liegt vor          liegt vor   \n",
       "\n",
       "                                 type_of_certificate energy_requirement  \\\n",
       "0                                     Bedarfsausweis                NaN   \n",
       "1                                                NaN                NaN   \n",
       "2  Verbrauchsausweis Energie­ver­brauchs­kennwert...                NaN   \n",
       "\n",
       "  efficiency_class  \n",
       "0                B  \n",
       "1              NaN  \n",
       "2              NaN  \n",
       "\n",
       "[3 rows x 21 columns]"
      ]
     },
     "execution_count": 32,
     "metadata": {},
     "output_type": "execute_result"
    }
   ],
   "source": [
    "df.head(3)"
   ]
  },
  {
   "cell_type": "markdown",
   "metadata": {},
   "source": [
    "## Clean `security_deposit`"
   ]
  },
  {
   "cell_type": "code",
   "execution_count": 33,
   "metadata": {},
   "outputs": [
    {
     "data": {
      "text/plain": [
       "3           123\n",
       "Drei         13\n",
       "Kaution:      7\n",
       "3-fache       5\n",
       "4350          3\n",
       "           ... \n",
       "2990          1\n",
       "3204          1\n",
       "3159,00       1\n",
       "1074,60€      1\n",
       "1.727,76      1\n",
       "Name: security_deposit, Length: 216, dtype: int64"
      ]
     },
     "execution_count": 33,
     "metadata": {},
     "output_type": "execute_result"
    }
   ],
   "source": [
    "df.security_deposit.value_counts()"
   ]
  },
  {
   "cell_type": "code",
   "execution_count": 34,
   "metadata": {},
   "outputs": [
    {
     "data": {
      "text/plain": [
       "array(['3', '2920,53', 'Drei', nan, '2400', '3507.42', '2000', '2139.78',\n",
       "       '5.397,00', '3885,00', '7.950,00', '4152', '4.650,00', '1.500€',\n",
       "       '3x', '9.150,-', '4.545', '2xNKM', '6.900,00', '5.994,00',\n",
       "       '6.000,-', '7.470,00', '5.172,00', '2.145,00', '6.215,70',\n",
       "       '11.475,00', '14.850,00', '4.197,00', '2600,00', '12.900,00', '2',\n",
       "       '3450', '5000', '10.000', '3620', '1690', '1790', 'ja', '2990',\n",
       "       '1490', '9.960,00', '3159,00', '4.350,00', '5010', '4333,90',\n",
       "       '3000', '2.013,00', '2841', '4000', '2850.72', '3300.75', '2344',\n",
       "       '3645,00', '2397', '4500', '9.718,00', '3.597,00', '3900',\n",
       "       '3.780,00', '4800', '3.582', '3630', '2549.79', '3831', '2.274,00',\n",
       "       '2850', '2960', '4.680', '4350', '3500', '4080', '4050', '2338',\n",
       "       '5940,00', '8100', '3.859,17', '2.630,43', '6552', '2.700,00',\n",
       "       '1797,00', '3345', '3360', '5148', '2472', '12.000,00', '6.300,00',\n",
       "       '5.394,00€', '1.554,00', '6600€', '1.727,76', '9025,50',\n",
       "       '3.750,00', '7575', '7.650,00', '5.355,00', '5850', '4.170,00',\n",
       "       '2340,00', '5910', '6330', '5670', '1.485,00', '3.597€', '3584,82',\n",
       "       '5.421,00', '3.750€', '5097€', '3-fache', '5196,60', 'Kaution:',\n",
       "       '2500', '2115', '2.286,45€', '1600', '1200,00', '6150,00', '4650',\n",
       "       '10500', '2426', '3450,00', '2.040,00', '2.085,00', '6570.0€',\n",
       "       '6675.0€', '9333.0€', '6.945,00', '9792.0€', '3973', '1000,00',\n",
       "       '2250,00', '1755,00', '4650,00', '1074,60€', '3.900,00', 'Kaution',\n",
       "       '1.974,00', '3685', '2253', '3230', '5775,00', '4.698,00€', '3158',\n",
       "       '1688,40', '1695,48', '5.506,20', '2564', '4258', '8382,24',\n",
       "       '2958', '4.197,00€', '3354', '5400', '3.133,00', '4.104,00',\n",
       "       '4263', '3423', '3550', '2318', '2268', '2315', '3334', '3533',\n",
       "       '3548', '3544', '2297', '3502', '3437', '2262', '3461', '3482',\n",
       "       '4300', '5700', '3167', '3706', '4409', '2795', '3058', '3028',\n",
       "       '3088', '4976', '13200,00', '4264', '5.508,00', '15300,00', '3087',\n",
       "       '3627', '3188', '8160,00', '3204', '2,5', '3762', '3684,00',\n",
       "       '3355', '4552', '4519', '3.141,69', '3154', '4271', '3630,00',\n",
       "       '4.338', '3059', '4.047,00', '3543', '3.297,00', '3007', '€3500',\n",
       "       '4326', '3905', '4759', '3747', '3745', '2.000,00', '6600', '3NKM',\n",
       "       '4197', '3.237,00', '1.542,00'], dtype=object)"
      ]
     },
     "execution_count": 34,
     "metadata": {},
     "output_type": "execute_result"
    }
   ],
   "source": [
    "df.security_deposit.unique()"
   ]
  },
  {
   "cell_type": "markdown",
   "metadata": {},
   "source": [
    "**First, let's remove the currency**"
   ]
  },
  {
   "cell_type": "code",
   "execution_count": 35,
   "metadata": {},
   "outputs": [],
   "source": [
    "def rm_euro(security_deposit):\n",
    "    \n",
    "    # return NaN if value is missing\n",
    "    if pd.isna(security_deposit): return np.nan\n",
    "    \n",
    "    # cast to string so that string methods work\n",
    "    security_deposit = str(security_deposit)\n",
    "    \n",
    "    # remove different instances of euro\n",
    "    euros = ['€', 'euro', 'eur']\n",
    "    for euro in euros:\n",
    "        security_deposit = security_deposit.lower().replace(euro, '').strip()\n",
    "    \n",
    "    return security_deposit"
   ]
  },
  {
   "cell_type": "code",
   "execution_count": 36,
   "metadata": {},
   "outputs": [],
   "source": [
    "df['security_deposit'] = df.security_deposit.apply(rm_euro).astype(str)"
   ]
  },
  {
   "cell_type": "code",
   "execution_count": 37,
   "metadata": {},
   "outputs": [
    {
     "data": {
      "text/plain": [
       "array(['3', '2920,53', 'drei', 'nan', '2400', '3507.42', '2000',\n",
       "       '2139.78', '5.397,00', '3885,00', '7.950,00', '4152', '4.650,00',\n",
       "       '1.500', '3x', '9.150,-', '4.545', '2xnkm', '6.900,00', '5.994,00',\n",
       "       '6.000,-', '7.470,00', '5.172,00', '2.145,00', '6.215,70',\n",
       "       '11.475,00', '14.850,00', '4.197,00', '2600,00', '12.900,00', '2',\n",
       "       '3450', '5000', '10.000', '3620', '1690', '1790', 'ja', '2990',\n",
       "       '1490', '9.960,00', '3159,00', '4.350,00', '5010', '4333,90',\n",
       "       '3000', '2.013,00', '2841', '4000', '2850.72', '3300.75', '2344',\n",
       "       '3645,00', '2397', '4500', '9.718,00', '3.597,00', '3900',\n",
       "       '3.780,00', '4800', '3.582', '3630', '2549.79', '3831', '2.274,00',\n",
       "       '2850', '2960', '4.680', '4350', '3500', '4080', '4050', '2338',\n",
       "       '5940,00', '8100', '3.859,17', '2.630,43', '6552', '2.700,00',\n",
       "       '1797,00', '3345', '3360', '5148', '2472', '12.000,00', '6.300,00',\n",
       "       '5.394,00', '1.554,00', '6600', '1.727,76', '9025,50', '3.750,00',\n",
       "       '7575', '7.650,00', '5.355,00', '5850', '4.170,00', '2340,00',\n",
       "       '5910', '6330', '5670', '1.485,00', '3.597', '3584,82', '5.421,00',\n",
       "       '3.750', '5097', '3-fache', '5196,60', 'kaution:', '2500', '2115',\n",
       "       '2.286,45', '1600', '1200,00', '6150,00', '4650', '10500', '2426',\n",
       "       '3450,00', '2.040,00', '2.085,00', '6570.0', '6675.0', '9333.0',\n",
       "       '6.945,00', '9792.0', '3973', '1000,00', '2250,00', '1755,00',\n",
       "       '4650,00', '1074,60', '3.900,00', 'kaution', '1.974,00', '3685',\n",
       "       '2253', '3230', '5775,00', '4.698,00', '3158', '1688,40',\n",
       "       '1695,48', '5.506,20', '2564', '4258', '8382,24', '2958', '3354',\n",
       "       '5400', '3.133,00', '4.104,00', '4263', '3423', '3550', '2318',\n",
       "       '2268', '2315', '3334', '3533', '3548', '3544', '2297', '3502',\n",
       "       '3437', '2262', '3461', '3482', '4300', '5700', '3167', '3706',\n",
       "       '4409', '2795', '3058', '3028', '3088', '4976', '13200,00', '4264',\n",
       "       '5.508,00', '15300,00', '3087', '3627', '3188', '8160,00', '3204',\n",
       "       '2,5', '3762', '3684,00', '3355', '4552', '4519', '3.141,69',\n",
       "       '3154', '4271', '3630,00', '4.338', '3059', '4.047,00', '3543',\n",
       "       '3.297,00', '3007', '4326', '3905', '4759', '3747', '3745',\n",
       "       '2.000,00', '3nkm', '4197', '3.237,00', '1.542,00'], dtype=object)"
      ]
     },
     "execution_count": 37,
     "metadata": {},
     "output_type": "execute_result"
    }
   ],
   "source": [
    "df.security_deposit.unique()"
   ]
  },
  {
   "cell_type": "markdown",
   "metadata": {},
   "source": [
    "**Now, we need to convert the decimal into something a computer can better read**"
   ]
  },
  {
   "cell_type": "code",
   "execution_count": 38,
   "metadata": {},
   "outputs": [],
   "source": [
    "def convert_decimal(value):\n",
    "    conv = lambda v: v.replace('.', '').replace(',', '.')\n",
    "    \n",
    "    if pd.isna(value):                 return np.nan       # return NaN if missing\n",
    "    if len(value.split('.')[-1]) == 3: return conv(value)  # check if wrong format w/o decimal i.e. 3.500\n",
    "    try:                               return float(value) # check if value is already in correct format\n",
    "    except:                            return conv(value)  # if not, convert it (i.e. 3.500,99)"
   ]
  },
  {
   "cell_type": "code",
   "execution_count": 39,
   "metadata": {},
   "outputs": [],
   "source": [
    "df['security_deposit'] = df.security_deposit.apply(convert_decimal)"
   ]
  },
  {
   "cell_type": "code",
   "execution_count": 40,
   "metadata": {},
   "outputs": [
    {
     "data": {
      "text/plain": [
       "array([3.0, '2920.53', 'drei', 'nan', 2400.0, 3507.42, 2000.0, 2139.78,\n",
       "       '5397.00', '3885.00', '7950.00', 4152.0, '4650.00', '1500', '3x',\n",
       "       '9150.-', '4545', '2xnkm', '6900.00', '5994.00', '6000.-',\n",
       "       '7470.00', '5172.00', '2145.00', '6215.70', '11475.00', '14850.00',\n",
       "       '4197.00', '2600.00', '12900.00', 2.0, 3450.0, 5000.0, '10000',\n",
       "       3620.0, 1690.0, 1790.0, 'ja', 2990.0, 1490.0, '9960.00', '3159.00',\n",
       "       '4350.00', 5010.0, '4333.90', 3000.0, '2013.00', 2841.0, 4000.0,\n",
       "       2850.72, 3300.75, 2344.0, '3645.00', 2397.0, 4500.0, '9718.00',\n",
       "       '3597.00', 3900.0, '3780.00', 4800.0, '3582', 3630.0, 2549.79,\n",
       "       3831.0, '2274.00', 2850.0, 2960.0, '4680', 4350.0, 3500.0, 4080.0,\n",
       "       4050.0, 2338.0, '5940.00', 8100.0, '3859.17', '2630.43', 6552.0,\n",
       "       '2700.00', '1797.00', 3345.0, 3360.0, 5148.0, 2472.0, '12000.00',\n",
       "       '6300.00', '5394.00', '1554.00', 6600.0, '1727.76', '9025.50',\n",
       "       '3750.00', 7575.0, '7650.00', '5355.00', 5850.0, '4170.00',\n",
       "       '2340.00', 5910.0, 6330.0, 5670.0, '1485.00', '3597', '3584.82',\n",
       "       '5421.00', '3750', 5097.0, '3-fache', '5196.60', 'kaution:',\n",
       "       2500.0, 2115.0, '2286.45', 1600.0, '1200.00', '6150.00', 4650.0,\n",
       "       10500.0, 2426.0, '3450.00', '2040.00', '2085.00', 6570.0, 6675.0,\n",
       "       9333.0, '6945.00', 9792.0, 3973.0, '1000.00', '2250.00', '1755.00',\n",
       "       '1074.60', '3900.00', 'kaution', '1974.00', 3685.0, 2253.0, 3230.0,\n",
       "       '5775.00', '4698.00', 3158.0, '1688.40', '1695.48', '5506.20',\n",
       "       2564.0, 4258.0, '8382.24', 2958.0, 3354.0, 5400.0, '3133.00',\n",
       "       '4104.00', 4263.0, 3423.0, 3550.0, 2318.0, 2268.0, 2315.0, 3334.0,\n",
       "       3533.0, 3548.0, 3544.0, 2297.0, 3502.0, 3437.0, 2262.0, 3461.0,\n",
       "       3482.0, 4300.0, 5700.0, 3167.0, 3706.0, 4409.0, 2795.0, 3058.0,\n",
       "       3028.0, 3088.0, 4976.0, '13200.00', 4264.0, '5508.00', '15300.00',\n",
       "       3087.0, 3627.0, 3188.0, '8160.00', 3204.0, '2.5', 3762.0,\n",
       "       '3684.00', 3355.0, 4552.0, 4519.0, '3141.69', 3154.0, 4271.0,\n",
       "       '3630.00', '4338', 3059.0, '4047.00', 3543.0, '3297.00', 3007.0,\n",
       "       4326.0, 3905.0, 4759.0, 3747.0, 3745.0, '2000.00', '3nkm', 4197.0,\n",
       "       '3237.00', '1542.00'], dtype=object)"
      ]
     },
     "execution_count": 40,
     "metadata": {},
     "output_type": "execute_result"
    }
   ],
   "source": [
    "df.security_deposit.unique()"
   ]
  },
  {
   "cell_type": "markdown",
   "metadata": {},
   "source": [
    "**And now, let's get a list of non-numeric values**"
   ]
  },
  {
   "cell_type": "code",
   "execution_count": 41,
   "metadata": {},
   "outputs": [],
   "source": [
    "str_sec_dep = []\n",
    "\n",
    "for uniq in df.security_deposit.unique():\n",
    "    try:    uniq = float(uniq)\n",
    "    except: str_sec_dep.append(uniq)"
   ]
  },
  {
   "cell_type": "code",
   "execution_count": 42,
   "metadata": {},
   "outputs": [
    {
     "data": {
      "text/plain": [
       "{'2xnkm',\n",
       " '3-fache',\n",
       " '3nkm',\n",
       " '3x',\n",
       " '6000.-',\n",
       " '9150.-',\n",
       " 'drei',\n",
       " 'ja',\n",
       " 'kaution',\n",
       " 'kaution:'}"
      ]
     },
     "execution_count": 42,
     "metadata": {},
     "output_type": "execute_result"
    }
   ],
   "source": [
    "set(str_sec_dep)"
   ]
  },
  {
   "cell_type": "markdown",
   "metadata": {},
   "source": [
    "**Build a map of what the values should be. This is manually set because it's a small amount of data.**"
   ]
  },
  {
   "cell_type": "code",
   "execution_count": 43,
   "metadata": {},
   "outputs": [],
   "source": [
    "sec_dep_map = {\n",
    "    '2xnkm': '2 Months',\n",
    "    '3-fache': '3 Months',\n",
    "    '3nkm': '3 Months',\n",
    "    '3x': '3 Months',\n",
    "    '6000.-': 6000,\n",
    "    '9150.-': 9150,\n",
    "    'drei': '3 Months',\n",
    "    '3': '3 Months',\n",
    "    '2.5': '2.5 Months',\n",
    "    '2': '2 Months',\n",
    "    '1.5': '1.5 Months',\n",
    "    '1': '1 Months',\n",
    "    3: '3 Months',\n",
    "    2.5: '2.5 Months',\n",
    "    2: '2 Months',\n",
    "    1.5: '1.5 Months',\n",
    "    1: '1 Months',\n",
    "    \n",
    "}\n",
    "\n",
    "sec_dep_unclear = ['ja', 'kaution', 'kaution:']"
   ]
  },
  {
   "cell_type": "code",
   "execution_count": null,
   "metadata": {},
   "outputs": [],
   "source": [
    "def add(number1, number2):\n",
    "    return number1 + number2\n",
    "\n",
    "lambda (number1, number2): number1 + number2"
   ]
  },
  {
   "cell_type": "code",
   "execution_count": 44,
   "metadata": {},
   "outputs": [],
   "source": [
    "df['security_deposit'] = df.security_deposit.apply(lambda x: sec_dep_map.get(x, x))"
   ]
  },
  {
   "cell_type": "code",
   "execution_count": 45,
   "metadata": {},
   "outputs": [
    {
     "data": {
      "text/plain": [
       "array(['3 Months', '2920.53', 'nan', 2400.0, 3507.42, 2000.0, 2139.78,\n",
       "       '5397.00', '3885.00', '7950.00', 4152.0, '4650.00', '1500', 9150,\n",
       "       '4545', '2 Months', '6900.00', '5994.00', 6000, '7470.00',\n",
       "       '5172.00', '2145.00', '6215.70', '11475.00', '14850.00', '4197.00',\n",
       "       '2600.00', '12900.00', 3450.0, 5000.0, '10000', 3620.0, 1690.0,\n",
       "       1790.0, 'ja', 2990.0, 1490.0, '9960.00', '3159.00', '4350.00',\n",
       "       5010.0, '4333.90', 3000.0, '2013.00', 2841.0, 4000.0, 2850.72,\n",
       "       3300.75, 2344.0, '3645.00', 2397.0, 4500.0, '9718.00', '3597.00',\n",
       "       3900.0, '3780.00', 4800.0, '3582', 3630.0, 2549.79, 3831.0,\n",
       "       '2274.00', 2850.0, 2960.0, '4680', 4350.0, 3500.0, 4080.0, 4050.0,\n",
       "       2338.0, '5940.00', 8100.0, '3859.17', '2630.43', 6552.0, '2700.00',\n",
       "       '1797.00', 3345.0, 3360.0, 5148.0, 2472.0, '12000.00', '6300.00',\n",
       "       '5394.00', '1554.00', 6600.0, '1727.76', '9025.50', '3750.00',\n",
       "       7575.0, '7650.00', '5355.00', 5850.0, '4170.00', '2340.00', 5910.0,\n",
       "       6330.0, 5670.0, '1485.00', '3597', '3584.82', '5421.00', '3750',\n",
       "       5097.0, '5196.60', 'kaution:', 2500.0, 2115.0, '2286.45', 1600.0,\n",
       "       '1200.00', '6150.00', 4650.0, 10500.0, 2426.0, '3450.00',\n",
       "       '2040.00', '2085.00', 6570.0, 6675.0, 9333.0, '6945.00', 9792.0,\n",
       "       3973.0, '1000.00', '2250.00', '1755.00', '1074.60', '3900.00',\n",
       "       'kaution', '1974.00', 3685.0, 2253.0, 3230.0, '5775.00', '4698.00',\n",
       "       3158.0, '1688.40', '1695.48', '5506.20', 2564.0, 4258.0, '8382.24',\n",
       "       2958.0, 3354.0, 5400.0, '3133.00', '4104.00', 4263.0, 3423.0,\n",
       "       3550.0, 2318.0, 2268.0, 2315.0, 3334.0, 3533.0, 3548.0, 3544.0,\n",
       "       2297.0, 3502.0, 3437.0, 2262.0, 3461.0, 3482.0, 4300.0, 5700.0,\n",
       "       3167.0, 3706.0, 4409.0, 2795.0, 3058.0, 3028.0, 3088.0, 4976.0,\n",
       "       '13200.00', 4264.0, '5508.00', '15300.00', 3087.0, 3627.0, 3188.0,\n",
       "       '8160.00', 3204.0, '2.5 Months', 3762.0, '3684.00', 3355.0, 4552.0,\n",
       "       4519.0, '3141.69', 3154.0, 4271.0, '3630.00', '4338', 3059.0,\n",
       "       '4047.00', 3543.0, '3297.00', 3007.0, 4326.0, 3905.0, 4759.0,\n",
       "       3747.0, 3745.0, '2000.00', 4197.0, '3237.00', '1542.00'],\n",
       "      dtype=object)"
      ]
     },
     "execution_count": 45,
     "metadata": {},
     "output_type": "execute_result"
    }
   ],
   "source": [
    "df.security_deposit.unique()"
   ]
  },
  {
   "cell_type": "markdown",
   "metadata": {},
   "source": [
    "**Because 3 Months is the most frequent deposit, we can assume that the unclear fields marked \"Yes\" could be \"3 Months\"**"
   ]
  },
  {
   "cell_type": "code",
   "execution_count": 48,
   "metadata": {},
   "outputs": [
    {
     "data": {
      "text/plain": [
       "3 Months      144\n",
       "2 Months        4\n",
       "2.5 Months      1\n",
       "Name: security_deposit, dtype: int64"
      ]
     },
     "execution_count": 48,
     "metadata": {},
     "output_type": "execute_result"
    }
   ],
   "source": [
    "vc = df.security_deposit.value_counts().dropna()\n",
    "vc[vc.index.astype(str).str.contains('Month')]"
   ]
  },
  {
   "cell_type": "code",
   "execution_count": 49,
   "metadata": {},
   "outputs": [],
   "source": [
    "unclear_sec_dep_map = {sec_dep: '3 Months' for sec_dep in sec_dep_unclear}"
   ]
  },
  {
   "cell_type": "code",
   "execution_count": 50,
   "metadata": {},
   "outputs": [
    {
     "data": {
      "text/plain": [
       "{'ja': '3 Months', 'kaution': '3 Months', 'kaution:': '3 Months'}"
      ]
     },
     "execution_count": 50,
     "metadata": {},
     "output_type": "execute_result"
    }
   ],
   "source": [
    "unclear_sec_dep_map"
   ]
  },
  {
   "cell_type": "code",
   "execution_count": 51,
   "metadata": {},
   "outputs": [],
   "source": [
    "df['security_deposit'] = df.security_deposit.apply(lambda x: unclear_sec_dep_map.get(x, x))"
   ]
  },
  {
   "cell_type": "code",
   "execution_count": 54,
   "metadata": {},
   "outputs": [
    {
     "data": {
      "text/plain": [
       "(764, 205)"
      ]
     },
     "execution_count": 54,
     "metadata": {},
     "output_type": "execute_result"
    }
   ],
   "source": [
    "len(df), len(df.security_deposit.unique())"
   ]
  },
  {
   "cell_type": "code",
   "execution_count": 52,
   "metadata": {},
   "outputs": [
    {
     "data": {
      "text/plain": [
       "array(['3 Months', '2920.53', 'nan', 2400.0, 3507.42, 2000.0, 2139.78,\n",
       "       '5397.00', '3885.00', '7950.00', 4152.0, '4650.00', '1500', 9150,\n",
       "       '4545', '2 Months', '6900.00', '5994.00', 6000, '7470.00',\n",
       "       '5172.00', '2145.00', '6215.70', '11475.00', '14850.00', '4197.00',\n",
       "       '2600.00', '12900.00', 3450.0, 5000.0, '10000', 3620.0, 1690.0,\n",
       "       1790.0, 2990.0, 1490.0, '9960.00', '3159.00', '4350.00', 5010.0,\n",
       "       '4333.90', 3000.0, '2013.00', 2841.0, 4000.0, 2850.72, 3300.75,\n",
       "       2344.0, '3645.00', 2397.0, 4500.0, '9718.00', '3597.00', 3900.0,\n",
       "       '3780.00', 4800.0, '3582', 3630.0, 2549.79, 3831.0, '2274.00',\n",
       "       2850.0, 2960.0, '4680', 4350.0, 3500.0, 4080.0, 4050.0, 2338.0,\n",
       "       '5940.00', 8100.0, '3859.17', '2630.43', 6552.0, '2700.00',\n",
       "       '1797.00', 3345.0, 3360.0, 5148.0, 2472.0, '12000.00', '6300.00',\n",
       "       '5394.00', '1554.00', 6600.0, '1727.76', '9025.50', '3750.00',\n",
       "       7575.0, '7650.00', '5355.00', 5850.0, '4170.00', '2340.00', 5910.0,\n",
       "       6330.0, 5670.0, '1485.00', '3597', '3584.82', '5421.00', '3750',\n",
       "       5097.0, '5196.60', 2500.0, 2115.0, '2286.45', 1600.0, '1200.00',\n",
       "       '6150.00', 4650.0, 10500.0, 2426.0, '3450.00', '2040.00',\n",
       "       '2085.00', 6570.0, 6675.0, 9333.0, '6945.00', 9792.0, 3973.0,\n",
       "       '1000.00', '2250.00', '1755.00', '1074.60', '3900.00', '1974.00',\n",
       "       3685.0, 2253.0, 3230.0, '5775.00', '4698.00', 3158.0, '1688.40',\n",
       "       '1695.48', '5506.20', 2564.0, 4258.0, '8382.24', 2958.0, 3354.0,\n",
       "       5400.0, '3133.00', '4104.00', 4263.0, 3423.0, 3550.0, 2318.0,\n",
       "       2268.0, 2315.0, 3334.0, 3533.0, 3548.0, 3544.0, 2297.0, 3502.0,\n",
       "       3437.0, 2262.0, 3461.0, 3482.0, 4300.0, 5700.0, 3167.0, 3706.0,\n",
       "       4409.0, 2795.0, 3058.0, 3028.0, 3088.0, 4976.0, '13200.00', 4264.0,\n",
       "       '5508.00', '15300.00', 3087.0, 3627.0, 3188.0, '8160.00', 3204.0,\n",
       "       '2.5 Months', 3762.0, '3684.00', 3355.0, 4552.0, 4519.0, '3141.69',\n",
       "       3154.0, 4271.0, '3630.00', '4338', 3059.0, '4047.00', 3543.0,\n",
       "       '3297.00', 3007.0, 4326.0, 3905.0, 4759.0, 3747.0, 3745.0,\n",
       "       '2000.00', 4197.0, '3237.00', '1542.00'], dtype=object)"
      ]
     },
     "execution_count": 52,
     "metadata": {},
     "output_type": "execute_result"
    }
   ],
   "source": [
    "df.security_deposit.unique()"
   ]
  },
  {
   "cell_type": "code",
   "execution_count": 55,
   "metadata": {},
   "outputs": [
    {
     "data": {
      "text/plain": [
       "dtype('float64')"
      ]
     },
     "execution_count": 55,
     "metadata": {},
     "output_type": "execute_result"
    }
   ],
   "source": [
    "df.rent.dtype"
   ]
  },
  {
   "cell_type": "markdown",
   "metadata": {},
   "source": [
    "**Now, convert the month duration columns (3/2/etc Months) to an actual value, based on the rent**"
   ]
  },
  {
   "cell_type": "code",
   "execution_count": 60,
   "metadata": {},
   "outputs": [
    {
     "data": {
      "text/html": [
       "<div>\n",
       "<style scoped>\n",
       "    .dataframe tbody tr th:only-of-type {\n",
       "        vertical-align: middle;\n",
       "    }\n",
       "\n",
       "    .dataframe tbody tr th {\n",
       "        vertical-align: top;\n",
       "    }\n",
       "\n",
       "    .dataframe thead th {\n",
       "        text-align: right;\n",
       "    }\n",
       "</style>\n",
       "<table border=\"1\" class=\"dataframe\">\n",
       "  <thead>\n",
       "    <tr style=\"text-align: right;\">\n",
       "      <th></th>\n",
       "      <th>url</th>\n",
       "      <th>region</th>\n",
       "      <th>condition</th>\n",
       "      <th>rooms</th>\n",
       "      <th>rent</th>\n",
       "      <th>year_construction</th>\n",
       "      <th>space</th>\n",
       "      <th>cold_rent</th>\n",
       "      <th>utilities</th>\n",
       "      <th>heating_costs</th>\n",
       "      <th>...</th>\n",
       "      <th>parking_space</th>\n",
       "      <th>renovated_date</th>\n",
       "      <th>property_condition</th>\n",
       "      <th>furnishing</th>\n",
       "      <th>heating_type</th>\n",
       "      <th>energy_sources</th>\n",
       "      <th>energy_certificate</th>\n",
       "      <th>type_of_certificate</th>\n",
       "      <th>energy_requirement</th>\n",
       "      <th>efficiency_class</th>\n",
       "    </tr>\n",
       "  </thead>\n",
       "  <tbody>\n",
       "    <tr>\n",
       "      <th>0</th>\n",
       "      <td>https://www.immobilienscout24.de/expose/116051687</td>\n",
       "      <td>Mitte</td>\n",
       "      <td>first_time_use</td>\n",
       "      <td>4.0</td>\n",
       "      <td>2659.0</td>\n",
       "      <td>2019</td>\n",
       "      <td>117.20</td>\n",
       "      <td>2.199€</td>\n",
       "      <td>+460€</td>\n",
       "      <td>in</td>\n",
       "      <td>...</td>\n",
       "      <td>120€</td>\n",
       "      <td>NaN</td>\n",
       "      <td>New</td>\n",
       "      <td>NaN</td>\n",
       "      <td>Underfloor Heating</td>\n",
       "      <td>NaN</td>\n",
       "      <td>NaN</td>\n",
       "      <td>Bedarfsausweis</td>\n",
       "      <td>NaN</td>\n",
       "      <td>B</td>\n",
       "    </tr>\n",
       "    <tr>\n",
       "      <th>1</th>\n",
       "      <td>https://www.immobilienscout24.de/expose/115338103</td>\n",
       "      <td>Kreuzberg</td>\n",
       "      <td>first_time_use</td>\n",
       "      <td>1.0</td>\n",
       "      <td>1200.0</td>\n",
       "      <td>2020</td>\n",
       "      <td>29.33</td>\n",
       "      <td>973,51€</td>\n",
       "      <td>+226,49€</td>\n",
       "      <td>in</td>\n",
       "      <td>...</td>\n",
       "      <td>NaN</td>\n",
       "      <td>NaN</td>\n",
       "      <td>New</td>\n",
       "      <td>Gehobene Qualität</td>\n",
       "      <td>Central Heating</td>\n",
       "      <td>Fernwärme Energieausweis liegt vor</td>\n",
       "      <td>liegt vor</td>\n",
       "      <td>NaN</td>\n",
       "      <td>NaN</td>\n",
       "      <td>NaN</td>\n",
       "    </tr>\n",
       "  </tbody>\n",
       "</table>\n",
       "<p>2 rows × 21 columns</p>\n",
       "</div>"
      ],
      "text/plain": [
       "                                                 url     region  \\\n",
       "0  https://www.immobilienscout24.de/expose/116051687      Mitte   \n",
       "1  https://www.immobilienscout24.de/expose/115338103  Kreuzberg   \n",
       "\n",
       "        condition  rooms    rent  year_construction   space cold_rent  \\\n",
       "0  first_time_use    4.0  2659.0               2019  117.20    2.199€   \n",
       "1  first_time_use    1.0  1200.0               2020   29.33   973,51€   \n",
       "\n",
       "  utilities heating_costs  ...  parking_space renovated_date  \\\n",
       "0     +460€            in  ...           120€            NaN   \n",
       "1  +226,49€            in  ...            NaN            NaN   \n",
       "\n",
       "   property_condition         furnishing        heating_type  \\\n",
       "0                 New                NaN  Underfloor Heating   \n",
       "1                 New  Gehobene Qualität     Central Heating   \n",
       "\n",
       "                       energy_sources energy_certificate type_of_certificate  \\\n",
       "0                                 NaN                NaN      Bedarfsausweis   \n",
       "1  Fernwärme Energieausweis liegt vor          liegt vor                 NaN   \n",
       "\n",
       "  energy_requirement efficiency_class  \n",
       "0                NaN                B  \n",
       "1                NaN              NaN  \n",
       "\n",
       "[2 rows x 21 columns]"
      ]
     },
     "execution_count": 60,
     "metadata": {},
     "output_type": "execute_result"
    }
   ],
   "source": [
    "df.head(2)"
   ]
  },
  {
   "cell_type": "code",
   "execution_count": 56,
   "metadata": {},
   "outputs": [],
   "source": [
    "def get_security_deposit(row):\n",
    "    \n",
    "    # parse data\n",
    "    sec_dep = row.security_deposit\n",
    "    rent = row.rent\n",
    "    \n",
    "    # if data is missing, return NaN. if data is a number, return it as float.\n",
    "    # if data is a quantity of months, multiply the rent by the quantity.\n",
    "    if pd.isna(sec_dep): return np.nan\n",
    "    try:                 return float(sec_dep)\n",
    "    except ValueError:   return float(sec_dep.replace(' Months', '')) * rent"
   ]
  },
  {
   "cell_type": "code",
   "execution_count": 57,
   "metadata": {},
   "outputs": [],
   "source": [
    "df['security_deposit'] = df.apply(get_security_deposit, axis = 1)"
   ]
  },
  {
   "cell_type": "code",
   "execution_count": 58,
   "metadata": {},
   "outputs": [
    {
     "data": {
      "text/plain": [
       "dtype('float64')"
      ]
     },
     "execution_count": 58,
     "metadata": {},
     "output_type": "execute_result"
    }
   ],
   "source": [
    "df['security_deposit'].dtype"
   ]
  },
  {
   "cell_type": "markdown",
   "metadata": {},
   "source": [
    "#### Check Distribution and Descriptive Stats"
   ]
  },
  {
   "cell_type": "code",
   "execution_count": 61,
   "metadata": {},
   "outputs": [
    {
     "data": {
      "image/png": "[encoded data removed]",
      "text/plain": [
       "<Figure size 864x432 with 1 Axes>"
      ]
     },
     "metadata": {},
     "output_type": "display_data"
    }
   ],
   "source": [
    "sns.distplot(df.security_deposit.dropna());"
   ]
  },
  {
   "cell_type": "code",
   "execution_count": 62,
   "metadata": {},
   "outputs": [
    {
     "data": {
      "text/plain": [
       "mean       4670.031169\n",
       "median     3900.000000\n",
       "std        3153.089709\n",
       "min         842.220000\n",
       "max       29322.000000\n",
       "Name: security_deposit, dtype: float64"
      ]
     },
     "execution_count": 62,
     "metadata": {},
     "output_type": "execute_result"
    }
   ],
   "source": [
    "df.security_deposit.agg(['mean', 'median', 'std', 'min', 'max'])"
   ]
  },
  {
   "cell_type": "markdown",
   "metadata": {},
   "source": [
    "#### Filling the missing values intuitively\n",
    "\n",
    " - https://www.immobilienscout24.de/expose/116573177: has all of it's data mising, *will assume three months*\n",
    " - https://www.immobilienscout24.de/expose/115925878: has only some of its data missing, *will assume scraping error and therefore three months*\n",
    " - https://www.immobilienscout24.de/expose/114437800: has only deposit missing, *will assume there is no deposit*\n",
    " \n",
    "**Because the data is missing for different reasons, we should use different fill strategies**"
   ]
  },
  {
   "cell_type": "code",
   "execution_count": 63,
   "metadata": {},
   "outputs": [
    {
     "data": {
      "text/html": [
       "<div>\n",
       "<style scoped>\n",
       "    .dataframe tbody tr th:only-of-type {\n",
       "        vertical-align: middle;\n",
       "    }\n",
       "\n",
       "    .dataframe tbody tr th {\n",
       "        vertical-align: top;\n",
       "    }\n",
       "\n",
       "    .dataframe thead th {\n",
       "        text-align: right;\n",
       "    }\n",
       "</style>\n",
       "<table border=\"1\" class=\"dataframe\">\n",
       "  <thead>\n",
       "    <tr style=\"text-align: right;\">\n",
       "      <th></th>\n",
       "      <th>url</th>\n",
       "      <th>region</th>\n",
       "      <th>condition</th>\n",
       "      <th>rooms</th>\n",
       "      <th>rent</th>\n",
       "      <th>year_construction</th>\n",
       "      <th>space</th>\n",
       "      <th>cold_rent</th>\n",
       "      <th>utilities</th>\n",
       "      <th>heating_costs</th>\n",
       "      <th>...</th>\n",
       "      <th>parking_space</th>\n",
       "      <th>renovated_date</th>\n",
       "      <th>property_condition</th>\n",
       "      <th>furnishing</th>\n",
       "      <th>heating_type</th>\n",
       "      <th>energy_sources</th>\n",
       "      <th>energy_certificate</th>\n",
       "      <th>type_of_certificate</th>\n",
       "      <th>energy_requirement</th>\n",
       "      <th>efficiency_class</th>\n",
       "    </tr>\n",
       "  </thead>\n",
       "  <tbody>\n",
       "    <tr>\n",
       "      <th>3</th>\n",
       "      <td>https://www.immobilienscout24.de/expose/116573177</td>\n",
       "      <td>Wilmersdorf</td>\n",
       "      <td>well_kept</td>\n",
       "      <td>4.0</td>\n",
       "      <td>1830.22</td>\n",
       "      <td>1900</td>\n",
       "      <td>171.18</td>\n",
       "      <td>NaN</td>\n",
       "      <td>NaN</td>\n",
       "      <td>NaN</td>\n",
       "      <td>...</td>\n",
       "      <td>NaN</td>\n",
       "      <td>NaN</td>\n",
       "      <td>NaN</td>\n",
       "      <td>NaN</td>\n",
       "      <td>NaN</td>\n",
       "      <td>NaN</td>\n",
       "      <td>NaN</td>\n",
       "      <td>NaN</td>\n",
       "      <td>NaN</td>\n",
       "      <td>NaN</td>\n",
       "    </tr>\n",
       "    <tr>\n",
       "      <th>4</th>\n",
       "      <td>https://www.immobilienscout24.de/expose/115925878</td>\n",
       "      <td>Kreuzberg</td>\n",
       "      <td>first_time_use</td>\n",
       "      <td>2.0</td>\n",
       "      <td>2272.00</td>\n",
       "      <td>2020</td>\n",
       "      <td>88.27</td>\n",
       "      <td>NaN</td>\n",
       "      <td>NaN</td>\n",
       "      <td>NaN</td>\n",
       "      <td>...</td>\n",
       "      <td>NaN</td>\n",
       "      <td>NaN</td>\n",
       "      <td>New</td>\n",
       "      <td>Gehobene Qualität</td>\n",
       "      <td>Central Heating</td>\n",
       "      <td>Fernwärme Energieausweis liegt zur Besichtigun...</td>\n",
       "      <td>liegt zur Besichtigung vor</td>\n",
       "      <td>NaN</td>\n",
       "      <td>NaN</td>\n",
       "      <td>NaN</td>\n",
       "    </tr>\n",
       "    <tr>\n",
       "      <th>6</th>\n",
       "      <td>https://www.immobilienscout24.de/expose/108376992</td>\n",
       "      <td>Mitte</td>\n",
       "      <td>mint_condition</td>\n",
       "      <td>2.0</td>\n",
       "      <td>1509.45</td>\n",
       "      <td>2015</td>\n",
       "      <td>61.61</td>\n",
       "      <td>NaN</td>\n",
       "      <td>NaN</td>\n",
       "      <td>NaN</td>\n",
       "      <td>...</td>\n",
       "      <td>NaN</td>\n",
       "      <td>NaN</td>\n",
       "      <td>NaN</td>\n",
       "      <td>NaN</td>\n",
       "      <td>NaN</td>\n",
       "      <td>NaN</td>\n",
       "      <td>NaN</td>\n",
       "      <td>NaN</td>\n",
       "      <td>NaN</td>\n",
       "      <td>NaN</td>\n",
       "    </tr>\n",
       "    <tr>\n",
       "      <th>10</th>\n",
       "      <td>https://www.immobilienscout24.de/expose/114437800</td>\n",
       "      <td>Mitte</td>\n",
       "      <td>first_time_use</td>\n",
       "      <td>4.0</td>\n",
       "      <td>2499.00</td>\n",
       "      <td>2019</td>\n",
       "      <td>125.20</td>\n",
       "      <td>1.999€</td>\n",
       "      <td>+500€</td>\n",
       "      <td>in</td>\n",
       "      <td>...</td>\n",
       "      <td>120€</td>\n",
       "      <td>NaN</td>\n",
       "      <td>New</td>\n",
       "      <td>NaN</td>\n",
       "      <td>Underfloor Heating</td>\n",
       "      <td>Fernwärme</td>\n",
       "      <td>NaN</td>\n",
       "      <td>Bedarfsausweis</td>\n",
       "      <td>NaN</td>\n",
       "      <td>B</td>\n",
       "    </tr>\n",
       "    <tr>\n",
       "      <th>11</th>\n",
       "      <td>https://www.immobilienscout24.de/expose/116205341</td>\n",
       "      <td>Kreuzberg</td>\n",
       "      <td>first_time_use</td>\n",
       "      <td>2.0</td>\n",
       "      <td>2328.00</td>\n",
       "      <td>2020</td>\n",
       "      <td>90.36</td>\n",
       "      <td>NaN</td>\n",
       "      <td>NaN</td>\n",
       "      <td>NaN</td>\n",
       "      <td>...</td>\n",
       "      <td>NaN</td>\n",
       "      <td>NaN</td>\n",
       "      <td>New</td>\n",
       "      <td>Gehobene Qualität</td>\n",
       "      <td>Central Heating</td>\n",
       "      <td>Fernwärme Energieausweis liegt zur Besichtigun...</td>\n",
       "      <td>liegt zur Besichtigung vor</td>\n",
       "      <td>NaN</td>\n",
       "      <td>NaN</td>\n",
       "      <td>NaN</td>\n",
       "    </tr>\n",
       "  </tbody>\n",
       "</table>\n",
       "<p>5 rows × 21 columns</p>\n",
       "</div>"
      ],
      "text/plain": [
       "                                                  url       region  \\\n",
       "3   https://www.immobilienscout24.de/expose/116573177  Wilmersdorf   \n",
       "4   https://www.immobilienscout24.de/expose/115925878    Kreuzberg   \n",
       "6   https://www.immobilienscout24.de/expose/108376992        Mitte   \n",
       "10  https://www.immobilienscout24.de/expose/114437800        Mitte   \n",
       "11  https://www.immobilienscout24.de/expose/116205341    Kreuzberg   \n",
       "\n",
       "         condition  rooms     rent  year_construction   space cold_rent  \\\n",
       "3        well_kept    4.0  1830.22               1900  171.18       NaN   \n",
       "4   first_time_use    2.0  2272.00               2020   88.27       NaN   \n",
       "6   mint_condition    2.0  1509.45               2015   61.61       NaN   \n",
       "10  first_time_use    4.0  2499.00               2019  125.20    1.999€   \n",
       "11  first_time_use    2.0  2328.00               2020   90.36       NaN   \n",
       "\n",
       "   utilities heating_costs  ...  parking_space renovated_date  \\\n",
       "3        NaN           NaN  ...            NaN            NaN   \n",
       "4        NaN           NaN  ...            NaN            NaN   \n",
       "6        NaN           NaN  ...            NaN            NaN   \n",
       "10     +500€            in  ...           120€            NaN   \n",
       "11       NaN           NaN  ...            NaN            NaN   \n",
       "\n",
       "    property_condition         furnishing        heating_type  \\\n",
       "3                  NaN                NaN                 NaN   \n",
       "4                  New  Gehobene Qualität     Central Heating   \n",
       "6                  NaN                NaN                 NaN   \n",
       "10                 New                NaN  Underfloor Heating   \n",
       "11                 New  Gehobene Qualität     Central Heating   \n",
       "\n",
       "                                       energy_sources  \\\n",
       "3                                                 NaN   \n",
       "4   Fernwärme Energieausweis liegt zur Besichtigun...   \n",
       "6                                                 NaN   \n",
       "10                                          Fernwärme   \n",
       "11  Fernwärme Energieausweis liegt zur Besichtigun...   \n",
       "\n",
       "            energy_certificate type_of_certificate energy_requirement  \\\n",
       "3                          NaN                 NaN                NaN   \n",
       "4   liegt zur Besichtigung vor                 NaN                NaN   \n",
       "6                          NaN                 NaN                NaN   \n",
       "10                         NaN      Bedarfsausweis                NaN   \n",
       "11  liegt zur Besichtigung vor                 NaN                NaN   \n",
       "\n",
       "   efficiency_class  \n",
       "3               NaN  \n",
       "4               NaN  \n",
       "6               NaN  \n",
       "10                B  \n",
       "11              NaN  \n",
       "\n",
       "[5 rows x 21 columns]"
      ]
     },
     "execution_count": 63,
     "metadata": {},
     "output_type": "execute_result"
    }
   ],
   "source": [
    "df[df.security_deposit.isna()].head()"
   ]
  },
  {
   "cell_type": "code",
   "execution_count": 71,
   "metadata": {},
   "outputs": [
    {
     "data": {
      "text/html": [
       "<div>\n",
       "<style scoped>\n",
       "    .dataframe tbody tr th:only-of-type {\n",
       "        vertical-align: middle;\n",
       "    }\n",
       "\n",
       "    .dataframe tbody tr th {\n",
       "        vertical-align: top;\n",
       "    }\n",
       "\n",
       "    .dataframe thead th {\n",
       "        text-align: right;\n",
       "    }\n",
       "</style>\n",
       "<table border=\"1\" class=\"dataframe\">\n",
       "  <thead>\n",
       "    <tr style=\"text-align: right;\">\n",
       "      <th></th>\n",
       "      <th>utilities</th>\n",
       "      <th>heating_costs</th>\n",
       "      <th>security_deposit</th>\n",
       "      <th>parking_space</th>\n",
       "      <th>renovated_date</th>\n",
       "      <th>property_condition</th>\n",
       "      <th>furnishing</th>\n",
       "      <th>heating_type</th>\n",
       "      <th>energy_sources</th>\n",
       "      <th>energy_certificate</th>\n",
       "      <th>type_of_certificate</th>\n",
       "      <th>energy_requirement</th>\n",
       "      <th>efficiency_class</th>\n",
       "      <th>n_missing</th>\n",
       "    </tr>\n",
       "  </thead>\n",
       "  <tbody>\n",
       "    <tr>\n",
       "      <th>0</th>\n",
       "      <td>False</td>\n",
       "      <td>False</td>\n",
       "      <td>False</td>\n",
       "      <td>False</td>\n",
       "      <td>True</td>\n",
       "      <td>False</td>\n",
       "      <td>True</td>\n",
       "      <td>False</td>\n",
       "      <td>True</td>\n",
       "      <td>True</td>\n",
       "      <td>False</td>\n",
       "      <td>True</td>\n",
       "      <td>False</td>\n",
       "      <td>False</td>\n",
       "    </tr>\n",
       "    <tr>\n",
       "      <th>1</th>\n",
       "      <td>False</td>\n",
       "      <td>False</td>\n",
       "      <td>False</td>\n",
       "      <td>True</td>\n",
       "      <td>True</td>\n",
       "      <td>False</td>\n",
       "      <td>False</td>\n",
       "      <td>False</td>\n",
       "      <td>False</td>\n",
       "      <td>False</td>\n",
       "      <td>True</td>\n",
       "      <td>True</td>\n",
       "      <td>True</td>\n",
       "      <td>False</td>\n",
       "    </tr>\n",
       "    <tr>\n",
       "      <th>2</th>\n",
       "      <td>False</td>\n",
       "      <td>False</td>\n",
       "      <td>False</td>\n",
       "      <td>True</td>\n",
       "      <td>True</td>\n",
       "      <td>False</td>\n",
       "      <td>False</td>\n",
       "      <td>False</td>\n",
       "      <td>False</td>\n",
       "      <td>False</td>\n",
       "      <td>False</td>\n",
       "      <td>True</td>\n",
       "      <td>True</td>\n",
       "      <td>False</td>\n",
       "    </tr>\n",
       "    <tr>\n",
       "      <th>3</th>\n",
       "      <td>True</td>\n",
       "      <td>True</td>\n",
       "      <td>True</td>\n",
       "      <td>True</td>\n",
       "      <td>True</td>\n",
       "      <td>True</td>\n",
       "      <td>True</td>\n",
       "      <td>True</td>\n",
       "      <td>True</td>\n",
       "      <td>True</td>\n",
       "      <td>True</td>\n",
       "      <td>True</td>\n",
       "      <td>True</td>\n",
       "      <td>False</td>\n",
       "    </tr>\n",
       "    <tr>\n",
       "      <th>4</th>\n",
       "      <td>True</td>\n",
       "      <td>True</td>\n",
       "      <td>True</td>\n",
       "      <td>True</td>\n",
       "      <td>True</td>\n",
       "      <td>False</td>\n",
       "      <td>False</td>\n",
       "      <td>False</td>\n",
       "      <td>False</td>\n",
       "      <td>False</td>\n",
       "      <td>True</td>\n",
       "      <td>True</td>\n",
       "      <td>True</td>\n",
       "      <td>False</td>\n",
       "    </tr>\n",
       "    <tr>\n",
       "      <th>...</th>\n",
       "      <td>...</td>\n",
       "      <td>...</td>\n",
       "      <td>...</td>\n",
       "      <td>...</td>\n",
       "      <td>...</td>\n",
       "      <td>...</td>\n",
       "      <td>...</td>\n",
       "      <td>...</td>\n",
       "      <td>...</td>\n",
       "      <td>...</td>\n",
       "      <td>...</td>\n",
       "      <td>...</td>\n",
       "      <td>...</td>\n",
       "      <td>...</td>\n",
       "    </tr>\n",
       "    <tr>\n",
       "      <th>759</th>\n",
       "      <td>True</td>\n",
       "      <td>True</td>\n",
       "      <td>True</td>\n",
       "      <td>True</td>\n",
       "      <td>True</td>\n",
       "      <td>False</td>\n",
       "      <td>False</td>\n",
       "      <td>False</td>\n",
       "      <td>False</td>\n",
       "      <td>False</td>\n",
       "      <td>False</td>\n",
       "      <td>False</td>\n",
       "      <td>False</td>\n",
       "      <td>False</td>\n",
       "    </tr>\n",
       "    <tr>\n",
       "      <th>760</th>\n",
       "      <td>True</td>\n",
       "      <td>True</td>\n",
       "      <td>True</td>\n",
       "      <td>True</td>\n",
       "      <td>True</td>\n",
       "      <td>False</td>\n",
       "      <td>False</td>\n",
       "      <td>False</td>\n",
       "      <td>False</td>\n",
       "      <td>False</td>\n",
       "      <td>True</td>\n",
       "      <td>True</td>\n",
       "      <td>True</td>\n",
       "      <td>False</td>\n",
       "    </tr>\n",
       "    <tr>\n",
       "      <th>761</th>\n",
       "      <td>True</td>\n",
       "      <td>True</td>\n",
       "      <td>True</td>\n",
       "      <td>True</td>\n",
       "      <td>True</td>\n",
       "      <td>True</td>\n",
       "      <td>True</td>\n",
       "      <td>True</td>\n",
       "      <td>True</td>\n",
       "      <td>True</td>\n",
       "      <td>True</td>\n",
       "      <td>True</td>\n",
       "      <td>True</td>\n",
       "      <td>False</td>\n",
       "    </tr>\n",
       "    <tr>\n",
       "      <th>762</th>\n",
       "      <td>True</td>\n",
       "      <td>True</td>\n",
       "      <td>True</td>\n",
       "      <td>True</td>\n",
       "      <td>False</td>\n",
       "      <td>False</td>\n",
       "      <td>False</td>\n",
       "      <td>False</td>\n",
       "      <td>False</td>\n",
       "      <td>False</td>\n",
       "      <td>False</td>\n",
       "      <td>False</td>\n",
       "      <td>False</td>\n",
       "      <td>False</td>\n",
       "    </tr>\n",
       "    <tr>\n",
       "      <th>763</th>\n",
       "      <td>True</td>\n",
       "      <td>True</td>\n",
       "      <td>True</td>\n",
       "      <td>True</td>\n",
       "      <td>True</td>\n",
       "      <td>True</td>\n",
       "      <td>True</td>\n",
       "      <td>True</td>\n",
       "      <td>True</td>\n",
       "      <td>True</td>\n",
       "      <td>True</td>\n",
       "      <td>True</td>\n",
       "      <td>True</td>\n",
       "      <td>False</td>\n",
       "    </tr>\n",
       "  </tbody>\n",
       "</table>\n",
       "<p>764 rows × 14 columns</p>\n",
       "</div>"
      ],
      "text/plain": [
       "     utilities  heating_costs  security_deposit  parking_space  \\\n",
       "0        False          False             False          False   \n",
       "1        False          False             False           True   \n",
       "2        False          False             False           True   \n",
       "3         True           True              True           True   \n",
       "4         True           True              True           True   \n",
       "..         ...            ...               ...            ...   \n",
       "759       True           True              True           True   \n",
       "760       True           True              True           True   \n",
       "761       True           True              True           True   \n",
       "762       True           True              True           True   \n",
       "763       True           True              True           True   \n",
       "\n",
       "     renovated_date  property_condition  furnishing  heating_type  \\\n",
       "0              True               False        True         False   \n",
       "1              True               False       False         False   \n",
       "2              True               False       False         False   \n",
       "3              True                True        True          True   \n",
       "4              True               False       False         False   \n",
       "..              ...                 ...         ...           ...   \n",
       "759            True               False       False         False   \n",
       "760            True               False       False         False   \n",
       "761            True                True        True          True   \n",
       "762           False               False       False         False   \n",
       "763            True                True        True          True   \n",
       "\n",
       "     energy_sources  energy_certificate  type_of_certificate  \\\n",
       "0              True                True                False   \n",
       "1             False               False                 True   \n",
       "2             False               False                False   \n",
       "3              True                True                 True   \n",
       "4             False               False                 True   \n",
       "..              ...                 ...                  ...   \n",
       "759           False               False                False   \n",
       "760           False               False                 True   \n",
       "761            True                True                 True   \n",
       "762           False               False                False   \n",
       "763            True                True                 True   \n",
       "\n",
       "     energy_requirement  efficiency_class  n_missing  \n",
       "0                  True             False      False  \n",
       "1                  True              True      False  \n",
       "2                  True              True      False  \n",
       "3                  True              True      False  \n",
       "4                  True              True      False  \n",
       "..                  ...               ...        ...  \n",
       "759               False             False      False  \n",
       "760                True              True      False  \n",
       "761                True              True      False  \n",
       "762               False             False      False  \n",
       "763                True              True      False  \n",
       "\n",
       "[764 rows x 14 columns]"
      ]
     },
     "execution_count": 71,
     "metadata": {},
     "output_type": "execute_result"
    }
   ],
   "source": [
    "# df['n_missing'] = df[df.columns[-14:]].isnull().sum(1)\n",
    "\n",
    "df[df.columns[-14:]].isnull()#.sum()"
   ]
  },
  {
   "cell_type": "code",
   "execution_count": 77,
   "metadata": {},
   "outputs": [
    {
     "data": {
      "text/plain": [
       "0      False\n",
       "1      False\n",
       "2      False\n",
       "3       True\n",
       "4       True\n",
       "       ...  \n",
       "759     True\n",
       "760     True\n",
       "761     True\n",
       "762     True\n",
       "763     True\n",
       "Name: cold_rent, Length: 764, dtype: bool"
      ]
     },
     "execution_count": 77,
     "metadata": {},
     "output_type": "execute_result"
    }
   ],
   "source": [
    "df.cold_rent.isna()"
   ]
  },
  {
   "cell_type": "code",
   "execution_count": null,
   "metadata": {},
   "outputs": [],
   "source": []
  },
  {
   "cell_type": "code",
   "execution_count": null,
   "metadata": {},
   "outputs": [],
   "source": []
  },
  {
   "cell_type": "code",
   "execution_count": null,
   "metadata": {},
   "outputs": [],
   "source": []
  },
  {
   "cell_type": "code",
   "execution_count": 66,
   "metadata": {},
   "outputs": [
    {
     "data": {
      "text/html": [
       "<div>\n",
       "<style scoped>\n",
       "    .dataframe tbody tr th:only-of-type {\n",
       "        vertical-align: middle;\n",
       "    }\n",
       "\n",
       "    .dataframe tbody tr th {\n",
       "        vertical-align: top;\n",
       "    }\n",
       "\n",
       "    .dataframe thead th {\n",
       "        text-align: right;\n",
       "    }\n",
       "</style>\n",
       "<table border=\"1\" class=\"dataframe\">\n",
       "  <thead>\n",
       "    <tr style=\"text-align: right;\">\n",
       "      <th></th>\n",
       "      <th>url</th>\n",
       "      <th>region</th>\n",
       "      <th>condition</th>\n",
       "      <th>rooms</th>\n",
       "      <th>rent</th>\n",
       "      <th>year_construction</th>\n",
       "      <th>space</th>\n",
       "      <th>cold_rent</th>\n",
       "      <th>utilities</th>\n",
       "      <th>heating_costs</th>\n",
       "      <th>...</th>\n",
       "      <th>renovated_date</th>\n",
       "      <th>property_condition</th>\n",
       "      <th>furnishing</th>\n",
       "      <th>heating_type</th>\n",
       "      <th>energy_sources</th>\n",
       "      <th>energy_certificate</th>\n",
       "      <th>type_of_certificate</th>\n",
       "      <th>energy_requirement</th>\n",
       "      <th>efficiency_class</th>\n",
       "      <th>n_missing</th>\n",
       "    </tr>\n",
       "  </thead>\n",
       "  <tbody>\n",
       "  </tbody>\n",
       "</table>\n",
       "<p>0 rows × 22 columns</p>\n",
       "</div>"
      ],
      "text/plain": [
       "Empty DataFrame\n",
       "Columns: [url, region, condition, rooms, rent, year_construction, space, cold_rent, utilities, heating_costs, security_deposit, parking_space, renovated_date, property_condition, furnishing, heating_type, energy_sources, energy_certificate, type_of_certificate, energy_requirement, efficiency_class, n_missing]\n",
       "Index: []\n",
       "\n",
       "[0 rows x 22 columns]"
      ]
     },
     "execution_count": 66,
     "metadata": {},
     "output_type": "execute_result"
    }
   ],
   "source": [
    "df[(df.n_missing == 1) & (df.security_deposit.isnull())].head(3)"
   ]
  },
  {
   "cell_type": "code",
   "execution_count": 78,
   "metadata": {},
   "outputs": [],
   "source": [
    "def fill_missing_security_deposit(row):\n",
    "    \n",
    "    # if the value isn't missing, return the value\n",
    "    if not pd.isna(row.security_deposit):\n",
    "        return row.security_deposit\n",
    "    \n",
    "    # if there is only one missing value, return 0. Otherwise return 3 months of rent\n",
    "    if row.n_missing == 1: return 0.\n",
    "    else:                  return row.rent * 3"
   ]
  },
  {
   "cell_type": "code",
   "execution_count": 79,
   "metadata": {},
   "outputs": [],
   "source": [
    "df['security_deposit'] = df.apply(fill_missing_security_deposit, axis = 1)"
   ]
  },
  {
   "cell_type": "code",
   "execution_count": 80,
   "metadata": {},
   "outputs": [
    {
     "data": {
      "image/png": "[encoded data removed]",
      "text/plain": [
       "<Figure size 864x432 with 1 Axes>"
      ]
     },
     "metadata": {},
     "output_type": "display_data"
    }
   ],
   "source": [
    "sns.distplot(df.security_deposit.dropna());"
   ]
  },
  {
   "cell_type": "code",
   "execution_count": 81,
   "metadata": {},
   "outputs": [
    {
     "data": {
      "text/plain": [
       "mean       4854.710955\n",
       "median     4197.000000\n",
       "std        3295.911843\n",
       "min         813.750000\n",
       "max       42621.000000\n",
       "Name: security_deposit, dtype: float64"
      ]
     },
     "execution_count": 81,
     "metadata": {},
     "output_type": "execute_result"
    }
   ],
   "source": [
    "df.security_deposit.agg(['mean', 'median', 'std', 'min', 'max'])"
   ]
  },
  {
   "cell_type": "code",
   "execution_count": 82,
   "metadata": {},
   "outputs": [
    {
     "data": {
      "text/plain": [
       "0"
      ]
     },
     "execution_count": 82,
     "metadata": {},
     "output_type": "execute_result"
    }
   ],
   "source": [
    "df.security_deposit.isnull().sum()"
   ]
  },
  {
   "cell_type": "code",
   "execution_count": null,
   "metadata": {},
   "outputs": [],
   "source": [
    "df.dropna()"
   ]
  },
  {
   "cell_type": "code",
   "execution_count": null,
   "metadata": {},
   "outputs": [],
   "source": [
    "df.head()"
   ]
  },
  {
   "cell_type": "code",
   "execution_count": null,
   "metadata": {},
   "outputs": [],
   "source": []
  },
  {
   "cell_type": "markdown",
   "metadata": {},
   "source": [
    "## Recap:\n",
    "\n",
    " **Useful methods for dealing with missing data**:\n",
    " - `pd.isna(VALUE)` and  `pd.isnull(VALUE)`: check if a value is `NaN`, returns `boolean`\n",
    " - `df.COLUMN_NAME.isna()` and `df.COLUMN_NAME.isnull()`: check each value in column to see if it is `NaN`, returns `boolean`\n",
    " - `df.dropna()`: will drop **every** row that has a missing value\n",
    "     - optional arguments:\n",
    "         - `axis`: drop the column\n",
    "         - `how`: `any` or `all` drop if `any` value is missing, or `all` values in that row/col are missing\n",
    " - `df.fillna(VALUE_TO_FILL_WITH)`: will fill every missing value (`NaN`) with the value of your choice\n",
    " \n",
    "**NOTE**: na and null do the **exact** same thing in Pandas, even the docs are the same. The duplicate methods are carried over from `R` which treated `na` and `null` as different values."
   ]
  },
  {
   "cell_type": "markdown",
   "metadata": {},
   "source": [
    "## Clean `property_condition`"
   ]
  },
  {
   "cell_type": "code",
   "execution_count": 83,
   "metadata": {},
   "outputs": [
    {
     "data": {
      "text/plain": [
       "parking_space          0.882199\n",
       "renovated_date         0.744764\n",
       "efficiency_class       0.671466\n",
       "energy_requirement     0.573298\n",
       "cold_rent              0.442408\n",
       "heating_costs          0.442408\n",
       "utilities              0.442408\n",
       "furnishing             0.417539\n",
       "energy_certificate     0.409686\n",
       "type_of_certificate    0.388743\n",
       "energy_sources         0.353403\n",
       "property_condition     0.344241\n",
       "heating_type           0.325916\n",
       "region                 0.000000\n",
       "n_missing              0.000000\n",
       "rooms                  0.000000\n",
       "condition              0.000000\n",
       "security_deposit       0.000000\n",
       "rent                   0.000000\n",
       "year_construction      0.000000\n",
       "space                  0.000000\n",
       "url                    0.000000\n",
       "dtype: float64"
      ]
     },
     "execution_count": 83,
     "metadata": {},
     "output_type": "execute_result"
    }
   ],
   "source": [
    "(df.isnull().sum() / len(df)).sort_values(ascending = False)"
   ]
  },
  {
   "cell_type": "code",
   "execution_count": 84,
   "metadata": {},
   "outputs": [
    {
     "data": {
      "text/html": [
       "<div>\n",
       "<style scoped>\n",
       "    .dataframe tbody tr th:only-of-type {\n",
       "        vertical-align: middle;\n",
       "    }\n",
       "\n",
       "    .dataframe tbody tr th {\n",
       "        vertical-align: top;\n",
       "    }\n",
       "\n",
       "    .dataframe thead th {\n",
       "        text-align: right;\n",
       "    }\n",
       "</style>\n",
       "<table border=\"1\" class=\"dataframe\">\n",
       "  <thead>\n",
       "    <tr style=\"text-align: right;\">\n",
       "      <th></th>\n",
       "      <th>url</th>\n",
       "      <th>region</th>\n",
       "      <th>condition</th>\n",
       "      <th>rooms</th>\n",
       "      <th>rent</th>\n",
       "      <th>year_construction</th>\n",
       "      <th>space</th>\n",
       "      <th>cold_rent</th>\n",
       "      <th>utilities</th>\n",
       "      <th>heating_costs</th>\n",
       "      <th>...</th>\n",
       "      <th>renovated_date</th>\n",
       "      <th>property_condition</th>\n",
       "      <th>furnishing</th>\n",
       "      <th>heating_type</th>\n",
       "      <th>energy_sources</th>\n",
       "      <th>energy_certificate</th>\n",
       "      <th>type_of_certificate</th>\n",
       "      <th>energy_requirement</th>\n",
       "      <th>efficiency_class</th>\n",
       "      <th>n_missing</th>\n",
       "    </tr>\n",
       "  </thead>\n",
       "  <tbody>\n",
       "    <tr>\n",
       "      <th>0</th>\n",
       "      <td>https://www.immobilienscout24.de/expose/116051687</td>\n",
       "      <td>Mitte</td>\n",
       "      <td>first_time_use</td>\n",
       "      <td>4.0</td>\n",
       "      <td>2659.00</td>\n",
       "      <td>2019</td>\n",
       "      <td>117.20</td>\n",
       "      <td>2.199€</td>\n",
       "      <td>+460€</td>\n",
       "      <td>in</td>\n",
       "      <td>...</td>\n",
       "      <td>NaN</td>\n",
       "      <td>New</td>\n",
       "      <td>NaN</td>\n",
       "      <td>Underfloor Heating</td>\n",
       "      <td>NaN</td>\n",
       "      <td>NaN</td>\n",
       "      <td>Bedarfsausweis</td>\n",
       "      <td>NaN</td>\n",
       "      <td>B</td>\n",
       "      <td>5</td>\n",
       "    </tr>\n",
       "    <tr>\n",
       "      <th>1</th>\n",
       "      <td>https://www.immobilienscout24.de/expose/115338103</td>\n",
       "      <td>Kreuzberg</td>\n",
       "      <td>first_time_use</td>\n",
       "      <td>1.0</td>\n",
       "      <td>1200.00</td>\n",
       "      <td>2020</td>\n",
       "      <td>29.33</td>\n",
       "      <td>973,51€</td>\n",
       "      <td>+226,49€</td>\n",
       "      <td>in</td>\n",
       "      <td>...</td>\n",
       "      <td>NaN</td>\n",
       "      <td>New</td>\n",
       "      <td>Gehobene Qualität</td>\n",
       "      <td>Central Heating</td>\n",
       "      <td>Fernwärme Energieausweis liegt vor</td>\n",
       "      <td>liegt vor</td>\n",
       "      <td>NaN</td>\n",
       "      <td>NaN</td>\n",
       "      <td>NaN</td>\n",
       "      <td>5</td>\n",
       "    </tr>\n",
       "    <tr>\n",
       "      <th>2</th>\n",
       "      <td>https://www.immobilienscout24.de/expose/116458710</td>\n",
       "      <td>Köpenick</td>\n",
       "      <td>well_kept</td>\n",
       "      <td>2.0</td>\n",
       "      <td>979.00</td>\n",
       "      <td>1997</td>\n",
       "      <td>83.61</td>\n",
       "      <td>799€</td>\n",
       "      <td>+90€</td>\n",
       "      <td>+90€</td>\n",
       "      <td>...</td>\n",
       "      <td>NaN</td>\n",
       "      <td>Groomed</td>\n",
       "      <td>Normale Qualität</td>\n",
       "      <td>Central Heating</td>\n",
       "      <td>Fernwärme Energieausweis liegt vor</td>\n",
       "      <td>liegt vor</td>\n",
       "      <td>Verbrauchsausweis Energie­ver­brauchs­kennwert...</td>\n",
       "      <td>NaN</td>\n",
       "      <td>NaN</td>\n",
       "      <td>4</td>\n",
       "    </tr>\n",
       "    <tr>\n",
       "      <th>3</th>\n",
       "      <td>https://www.immobilienscout24.de/expose/116573177</td>\n",
       "      <td>Wilmersdorf</td>\n",
       "      <td>well_kept</td>\n",
       "      <td>4.0</td>\n",
       "      <td>1830.22</td>\n",
       "      <td>1900</td>\n",
       "      <td>171.18</td>\n",
       "      <td>NaN</td>\n",
       "      <td>NaN</td>\n",
       "      <td>NaN</td>\n",
       "      <td>...</td>\n",
       "      <td>NaN</td>\n",
       "      <td>NaN</td>\n",
       "      <td>NaN</td>\n",
       "      <td>NaN</td>\n",
       "      <td>NaN</td>\n",
       "      <td>NaN</td>\n",
       "      <td>NaN</td>\n",
       "      <td>NaN</td>\n",
       "      <td>NaN</td>\n",
       "      <td>14</td>\n",
       "    </tr>\n",
       "    <tr>\n",
       "      <th>4</th>\n",
       "      <td>https://www.immobilienscout24.de/expose/115925878</td>\n",
       "      <td>Kreuzberg</td>\n",
       "      <td>first_time_use</td>\n",
       "      <td>2.0</td>\n",
       "      <td>2272.00</td>\n",
       "      <td>2020</td>\n",
       "      <td>88.27</td>\n",
       "      <td>NaN</td>\n",
       "      <td>NaN</td>\n",
       "      <td>NaN</td>\n",
       "      <td>...</td>\n",
       "      <td>NaN</td>\n",
       "      <td>New</td>\n",
       "      <td>Gehobene Qualität</td>\n",
       "      <td>Central Heating</td>\n",
       "      <td>Fernwärme Energieausweis liegt zur Besichtigun...</td>\n",
       "      <td>liegt zur Besichtigung vor</td>\n",
       "      <td>NaN</td>\n",
       "      <td>NaN</td>\n",
       "      <td>NaN</td>\n",
       "      <td>9</td>\n",
       "    </tr>\n",
       "  </tbody>\n",
       "</table>\n",
       "<p>5 rows × 22 columns</p>\n",
       "</div>"
      ],
      "text/plain": [
       "                                                 url       region  \\\n",
       "0  https://www.immobilienscout24.de/expose/116051687        Mitte   \n",
       "1  https://www.immobilienscout24.de/expose/115338103    Kreuzberg   \n",
       "2  https://www.immobilienscout24.de/expose/116458710     Köpenick   \n",
       "3  https://www.immobilienscout24.de/expose/116573177  Wilmersdorf   \n",
       "4  https://www.immobilienscout24.de/expose/115925878    Kreuzberg   \n",
       "\n",
       "        condition  rooms     rent  year_construction   space cold_rent  \\\n",
       "0  first_time_use    4.0  2659.00               2019  117.20    2.199€   \n",
       "1  first_time_use    1.0  1200.00               2020   29.33   973,51€   \n",
       "2       well_kept    2.0   979.00               1997   83.61      799€   \n",
       "3       well_kept    4.0  1830.22               1900  171.18       NaN   \n",
       "4  first_time_use    2.0  2272.00               2020   88.27       NaN   \n",
       "\n",
       "  utilities heating_costs  ...  renovated_date property_condition  \\\n",
       "0     +460€            in  ...             NaN                New   \n",
       "1  +226,49€            in  ...             NaN                New   \n",
       "2      +90€          +90€  ...             NaN            Groomed   \n",
       "3       NaN           NaN  ...             NaN                NaN   \n",
       "4       NaN           NaN  ...             NaN                New   \n",
       "\n",
       "          furnishing        heating_type  \\\n",
       "0                NaN  Underfloor Heating   \n",
       "1  Gehobene Qualität     Central Heating   \n",
       "2   Normale Qualität     Central Heating   \n",
       "3                NaN                 NaN   \n",
       "4  Gehobene Qualität     Central Heating   \n",
       "\n",
       "                                      energy_sources  \\\n",
       "0                                                NaN   \n",
       "1                 Fernwärme Energieausweis liegt vor   \n",
       "2                 Fernwärme Energieausweis liegt vor   \n",
       "3                                                NaN   \n",
       "4  Fernwärme Energieausweis liegt zur Besichtigun...   \n",
       "\n",
       "           energy_certificate  \\\n",
       "0                         NaN   \n",
       "1                   liegt vor   \n",
       "2                   liegt vor   \n",
       "3                         NaN   \n",
       "4  liegt zur Besichtigung vor   \n",
       "\n",
       "                                 type_of_certificate energy_requirement  \\\n",
       "0                                     Bedarfsausweis                NaN   \n",
       "1                                                NaN                NaN   \n",
       "2  Verbrauchsausweis Energie­ver­brauchs­kennwert...                NaN   \n",
       "3                                                NaN                NaN   \n",
       "4                                                NaN                NaN   \n",
       "\n",
       "  efficiency_class n_missing  \n",
       "0                B         5  \n",
       "1              NaN         5  \n",
       "2              NaN         4  \n",
       "3              NaN        14  \n",
       "4              NaN         9  \n",
       "\n",
       "[5 rows x 22 columns]"
      ]
     },
     "execution_count": 84,
     "metadata": {},
     "output_type": "execute_result"
    }
   ],
   "source": [
    "df.head()"
   ]
  },
  {
   "cell_type": "markdown",
   "metadata": {},
   "source": [
    "#### Categorical Features need to be handled differently than Continuous\n",
    "\n",
    "Common methods:\n",
    " - Mode: May bias the dataset towards that category\n",
    " - Intuitive: Set the category based on domain knowledge, could be a problem if you are wrong\n",
    " - An `Unknown` Category: A catch all category for missing categories, especially useful if there is a reason the data is missing"
   ]
  },
  {
   "cell_type": "code",
   "execution_count": 44,
   "metadata": {},
   "outputs": [
    {
     "data": {
      "text/plain": [
       "New                     241\n",
       "Mint Condition          103\n",
       "Groomed                  65\n",
       "Refurbished              29\n",
       "After Renovation         26\n",
       "Completely Renovated     21\n",
       "Modernized               13\n",
       "Needs Renovation          2\n",
       "Well Maintained           1\n",
       "Name: property_condition, dtype: int64"
      ]
     },
     "execution_count": 44,
     "metadata": {},
     "output_type": "execute_result"
    }
   ],
   "source": [
    "df.property_condition.value_counts()"
   ]
  },
  {
   "cell_type": "code",
   "execution_count": 85,
   "metadata": {},
   "outputs": [],
   "source": [
    "df['property_condition'] = df.property_condition.fillna('Unknown')"
   ]
  },
  {
   "cell_type": "code",
   "execution_count": 87,
   "metadata": {},
   "outputs": [
    {
     "data": {
      "text/plain": [
       "0"
      ]
     },
     "execution_count": 87,
     "metadata": {},
     "output_type": "execute_result"
    }
   ],
   "source": [
    "df.property_condition.isnull().sum()"
   ]
  },
  {
   "cell_type": "code",
   "execution_count": 86,
   "metadata": {},
   "outputs": [
    {
     "data": {
      "image/png": "[encoded data removed]",
      "text/plain": [
       "<Figure size 864x432 with 1 Axes>"
      ]
     },
     "metadata": {},
     "output_type": "display_data"
    }
   ],
   "source": [
    "df.property_condition.value_counts().plot(kind = 'bar');"
   ]
  },
  {
   "cell_type": "markdown",
   "metadata": {},
   "source": [
    "## Clean `cold_rent`"
   ]
  },
  {
   "cell_type": "code",
   "execution_count": 47,
   "metadata": {},
   "outputs": [
    {
     "data": {
      "text/plain": [
       "parking_space          0.882199\n",
       "renovated_date         0.744764\n",
       "efficiency_class       0.671466\n",
       "energy_requirement     0.573298\n",
       "cold_rent              0.442408\n",
       "heating_costs          0.442408\n",
       "utilities              0.442408\n",
       "furnishing             0.417539\n",
       "energy_certificate     0.409686\n",
       "type_of_certificate    0.388743\n",
       "energy_sources         0.353403\n",
       "heating_type           0.325916\n",
       "n_missing              0.000000\n",
       "condition              0.000000\n",
       "region                 0.000000\n",
       "rent                   0.000000\n",
       "rooms                  0.000000\n",
       "security_deposit       0.000000\n",
       "year_construction      0.000000\n",
       "space                  0.000000\n",
       "property_condition     0.000000\n",
       "url                    0.000000\n",
       "dtype: float64"
      ]
     },
     "execution_count": 47,
     "metadata": {},
     "output_type": "execute_result"
    }
   ],
   "source": [
    "(df.isnull().sum() / len(df)).sort_values(ascending = False)"
   ]
  },
  {
   "cell_type": "markdown",
   "metadata": {},
   "source": [
    "**Since we have the warm rent for every sample, rather than use the median or mean, a better method might be to get the average warm/cold rent ratio and apply that to all missing values**"
   ]
  },
  {
   "cell_type": "code",
   "execution_count": 88,
   "metadata": {},
   "outputs": [],
   "source": [
    "# reuse functions from before\n",
    "df['cold_rent'] = df.cold_rent.apply(rm_euro).astype(str)\n",
    "df['cold_rent'] = df.cold_rent.apply(convert_decimal)"
   ]
  },
  {
   "cell_type": "code",
   "execution_count": 91,
   "metadata": {},
   "outputs": [
    {
     "data": {
      "text/plain": [
       "rent         1351180.56\n",
       "cold_rent     672957.80\n",
       "dtype: float64"
      ]
     },
     "execution_count": 91,
     "metadata": {},
     "output_type": "execute_result"
    }
   ],
   "source": [
    "total_warm_and_cold = df[['rent', 'cold_rent']].dropna().astype(float).sum()\n",
    "total_warm_and_cold"
   ]
  },
  {
   "cell_type": "code",
   "execution_count": 92,
   "metadata": {},
   "outputs": [
    {
     "data": {
      "text/plain": [
       "0.4980517185652814"
      ]
     },
     "execution_count": 92,
     "metadata": {},
     "output_type": "execute_result"
    }
   ],
   "source": [
    "warm_cold_rent_ratio = total_warm_and_cold.cold_rent / total_warm_and_cold.rent\n",
    "warm_cold_rent_ratio"
   ]
  },
  {
   "cell_type": "code",
   "execution_count": 93,
   "metadata": {},
   "outputs": [
    {
     "data": {
      "image/png": "[encoded data removed]",
      "text/plain": [
       "<Figure size 864x432 with 1 Axes>"
      ]
     },
     "metadata": {},
     "output_type": "display_data"
    }
   ],
   "source": [
    "# current distribution\n",
    "sns.distplot(df.cold_rent.astype(float).dropna());"
   ]
  },
  {
   "cell_type": "code",
   "execution_count": 94,
   "metadata": {},
   "outputs": [],
   "source": [
    "df['cold_rent'] = df.cold_rent.astype(float)"
   ]
  },
  {
   "cell_type": "code",
   "execution_count": 95,
   "metadata": {},
   "outputs": [],
   "source": [
    "def get_cold_rent(row):\n",
    "    if not pd.isna(row.cold_rent): return float(row.cold_rent)\n",
    "    else:\n",
    "        return row.rent * warm_cold_rent_ratio"
   ]
  },
  {
   "cell_type": "code",
   "execution_count": 96,
   "metadata": {},
   "outputs": [],
   "source": [
    "df['cold_rent'] = df.apply(get_cold_rent, axis = 1)"
   ]
  },
  {
   "cell_type": "code",
   "execution_count": 97,
   "metadata": {},
   "outputs": [
    {
     "data": {
      "image/png": "[encoded data removed]",
      "text/plain": [
       "<Figure size 864x432 with 1 Axes>"
      ]
     },
     "metadata": {},
     "output_type": "display_data"
    }
   ],
   "source": [
    "sns.distplot(df.cold_rent);"
   ]
  },
  {
   "cell_type": "code",
   "execution_count": 98,
   "metadata": {},
   "outputs": [
    {
     "data": {
      "text/plain": [
       "0"
      ]
     },
     "execution_count": 98,
     "metadata": {},
     "output_type": "execute_result"
    }
   ],
   "source": [
    "df.cold_rent.isnull().sum()"
   ]
  },
  {
   "cell_type": "markdown",
   "metadata": {},
   "source": [
    "# Exercise: Clean up the rest `:)`"
   ]
  },
  {
   "cell_type": "code",
   "execution_count": 99,
   "metadata": {},
   "outputs": [
    {
     "data": {
      "text/plain": [
       "parking_space          0.882199\n",
       "renovated_date         0.744764\n",
       "efficiency_class       0.671466\n",
       "energy_requirement     0.573298\n",
       "heating_costs          0.442408\n",
       "utilities              0.442408\n",
       "furnishing             0.417539\n",
       "energy_certificate     0.409686\n",
       "type_of_certificate    0.388743\n",
       "energy_sources         0.353403\n",
       "heating_type           0.325916\n",
       "n_missing              0.000000\n",
       "rent                   0.000000\n",
       "region                 0.000000\n",
       "condition              0.000000\n",
       "rooms                  0.000000\n",
       "security_deposit       0.000000\n",
       "year_construction      0.000000\n",
       "space                  0.000000\n",
       "cold_rent              0.000000\n",
       "property_condition     0.000000\n",
       "url                    0.000000\n",
       "dtype: float64"
      ]
     },
     "execution_count": 99,
     "metadata": {},
     "output_type": "execute_result"
    }
   ],
   "source": [
    "(df.isnull().sum() / len(df)).sort_values(ascending = False)"
   ]
  },
  {
   "cell_type": "code",
   "execution_count": 101,
   "metadata": {},
   "outputs": [],
   "source": [
    "# for feat in df.isnull().sum()[df.isnull().sum() > 0].index:\n",
    "#     print(f'\\n{feat}\\n')\n",
    "#     print(df[feat].unique())"
   ]
  },
  {
   "cell_type": "markdown",
   "metadata": {},
   "source": [
    "## Clean `heating_costs`"
   ]
  },
  {
   "cell_type": "code",
   "execution_count": 102,
   "metadata": {},
   "outputs": [
    {
     "data": {
      "text/plain": [
       "array(['in', '+90€', nan, '+78€', '+80€', '+60€', 'inkl.', '+66,65€',\n",
       "       '+95,87€', '+0€', '+56,42€', 'keine', '+85€', '+120€', 'nicht',\n",
       "       '+200,86€', '+102,78€', '+123,56€', '+65€', '+151,71€', '+100€',\n",
       "       '+104€', '+50€', '+70€', '+47€', '+53€', '+65,40€', '+250€',\n",
       "       '+40€', '+125€', '+45€', '+30€', '+88€', '+63,52€', '+95€',\n",
       "       '+90,14€', '+20€', '+110€', '+164€', '+150€', '+57,94€', '+148€',\n",
       "       '+106€', '+66,81€', '+54,73€', '+102,38€', '+95,96€', '+64,73€',\n",
       "       '+90,47€', '+89,19€', '+77€', '+105€', '+71,82€', '+115,70€',\n",
       "       '+82,15€', '+87,43€', '+112,99€', '+133,42€', '+51,72€', '+140€',\n",
       "       '+88,30€', '+100,65€', '+122,83€', '+95,34€', '+99,44€', '+66,60€',\n",
       "       '+64,78€', '+66,31€', '+98,04€', '+91,04€', '+100,49€', '+98,70€',\n",
       "       '+66,38€', '+96,73€', '+96,26€', '+65,35€', '+96,93€', '+96,97€',\n",
       "       '+119,44€', '+86,06€', '+92,05€', '+107,26€', '+76,57€', '+81,96€',\n",
       "       '+84,81€', '+81,67€', '+121,36€', '+84,98€', '+112,31€',\n",
       "       '+101,52€', '+81,65€', '+98,02€', '+129,67€', '+81,95€', '+81,72€',\n",
       "       '+92,42€', '+92,56€', '+93,97€', '+122,29€', '+121,15€', '+122€',\n",
       "       '+85,70€', '+101,69€', '+135€', '+81,57€', '+97,87€', '+84,68€',\n",
       "       '+111,49€', '+104,13€', '+122,65€', '+108,58€', '+108,86€'],\n",
       "      dtype=object)"
      ]
     },
     "execution_count": 102,
     "metadata": {},
     "output_type": "execute_result"
    }
   ],
   "source": [
    "df.heating_costs.unique()"
   ]
  },
  {
   "cell_type": "code",
   "execution_count": 104,
   "metadata": {},
   "outputs": [],
   "source": [
    "# reuse functions from before\n",
    "df['heating_costs'] = df.heating_costs.apply(rm_euro).astype(str)\n",
    "df['heating_costs'] = df.heating_costs.apply(convert_decimal)"
   ]
  },
  {
   "cell_type": "code",
   "execution_count": 108,
   "metadata": {},
   "outputs": [
    {
     "data": {
      "text/plain": [
       "array(['in', '+90', 'nan', '+78', '+80', '+60', 'inkl', '+66.65',\n",
       "       '+95.87', 0.0, '+56.42', 'keine', '+85', 120.0, 'nicht', '+200.86',\n",
       "       '+102.78', '+123.56', '+65', '+151.71', 100.0, 104.0, '+50', '+70',\n",
       "       '+47', '+53', '+65.40', 250.0, '+40', 125.0, '+45', '+30', '+88',\n",
       "       '+63.52', '+95', '+90.14', '+20', 110.0, 164.0, 150.0, '+57.94',\n",
       "       148.0, 106.0, '+66.81', '+54.73', '+102.38', '+95.96', '+64.73',\n",
       "       '+90.47', '+89.19', '+77', 105.0, '+71.82', '+115.70', '+82.15',\n",
       "       '+87.43', '+112.99', '+133.42', '+51.72', 140.0, '+88.30',\n",
       "       '+100.65', '+122.83', '+95.34', '+99.44', '+66.60', '+64.78',\n",
       "       '+66.31', '+98.04', '+91.04', '+100.49', '+98.70', '+66.38',\n",
       "       '+96.73', '+96.26', '+65.35', '+96.93', '+96.97', '+119.44',\n",
       "       '+86.06', '+92.05', '+107.26', '+76.57', '+81.96', '+84.81',\n",
       "       '+81.67', '+121.36', '+84.98', '+112.31', '+101.52', '+81.65',\n",
       "       '+98.02', '+129.67', '+81.95', '+81.72', '+92.42', '+92.56',\n",
       "       '+93.97', '+122.29', '+121.15', 122.0, '+85.70', '+101.69', 135.0,\n",
       "       '+81.57', '+97.87', '+84.68', '+111.49', '+104.13', '+122.65',\n",
       "       '+108.58', '+108.86'], dtype=object)"
      ]
     },
     "execution_count": 108,
     "metadata": {},
     "output_type": "execute_result"
    }
   ],
   "source": [
    "df.heating_costs.unique()"
   ]
  },
  {
   "cell_type": "code",
   "execution_count": null,
   "metadata": {},
   "outputs": [],
   "source": []
  },
  {
   "cell_type": "code",
   "execution_count": null,
   "metadata": {},
   "outputs": [],
   "source": []
  },
  {
   "cell_type": "code",
   "execution_count": null,
   "metadata": {},
   "outputs": [],
   "source": []
  },
  {
   "cell_type": "code",
   "execution_count": null,
   "metadata": {},
   "outputs": [],
   "source": []
  },
  {
   "cell_type": "code",
   "execution_count": null,
   "metadata": {},
   "outputs": [],
   "source": []
  }
 ],
 "metadata": {
  "kernelspec": {
   "display_name": "Python 3",
   "language": "python",
   "name": "python3"
  },
  "varInspector": {
   "cols": {
    "lenName": 16,
    "lenType": 16,
    "lenVar": 40
   },
   "kernels_config": {
    "python": {
     "delete_cmd_postfix": "",
     "delete_cmd_prefix": "del ",
     "library": "var_list.py",
     "varRefreshCmd": "print(var_dic_list())"
    },
    "r": {
     "delete_cmd_postfix": ") ",
     "delete_cmd_prefix": "rm(",
     "library": "var_list.r",
     "varRefreshCmd": "cat(var_dic_list()) "
    }
   },
   "types_to_exclude": [
    "module",
    "function",
    "builtin_function_or_method",
    "instance",
    "_Feature"
   ],
   "window_display": false
  }
 },
 "nbformat": 4,
 "nbformat_minor": 4
}
