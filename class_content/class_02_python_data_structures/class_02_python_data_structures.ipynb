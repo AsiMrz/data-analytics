{
  "nbformat": 4,
  "nbformat_minor": 0,
  "metadata": {
    "colab": {
      "name": "Class-02_python_data_structures.ipynb",
      "provenance": [],
      "collapsed_sections": [
        "0mnOHaZpZ1CU",
        "-oSu6gR9bjdj",
        "h9l7kUOC43iL",
        "_rehYX145nEk",
        "jEIcUNYIbq1k",
        "qDp9RZbhb3K4",
        "N-JdwCNRb_Pf",
        "g4-XjayC8KO7",
        "wzPgAr_s_CrC",
        "SxpzGoM_Z_RU",
        "Y1rOvrTSaCnA",
        "_Bu_DUont1Ks",
        "qnQHMNCRuebg",
        "LUJyjEh1uzrv",
        "jDMYvC0avu_C",
        "o-UWnVB7v8yb",
        "VJjl2Fv9vLOl",
        "TQyoEjgivjA3"
      ]
    },
    "kernelspec": {
      "display_name": "Python 3",
      "language": "python",
      "name": "python3"
    }
  },
  "cells": [
    {
      "cell_type": "markdown",
      "metadata": {
        "colab_type": "text",
        "id": "s39SnnxrZxsx"
      },
      "source": [
        "# Python Data Structures\n",
        "\n",
        "This class is a recap from three classical data structures that you will find everywhere during the semester\n",
        "- `list` One dimensional, variable length, mutable (i.e.\n",
        "contents can be modified) sequence of Python objects\n",
        "of ANY type. \n",
        "- `tuple` one dimensional, fixed-length, immutable sequence\n",
        "of Python objects of ANY type.\n",
        "- `dictionnaries`\n",
        "   - Keys have to be immutable like scalar types (int,\n",
        "float, string) or tuples (all the objects in the tuple\n",
        "need to be immutable too)\n",
        "- `sets` an unordered collection of **UNIQUE**\n",
        "elements"
      ]
    },
    {
      "cell_type": "markdown",
      "metadata": {
        "colab_type": "text",
        "id": "0mnOHaZpZ1CU"
      },
      "source": [
        "## 1. Lists and tuples"
      ]
    },
    {
      "cell_type": "markdown",
      "metadata": {
        "colab_type": "text",
        "id": "aCBZvOZn3V6D"
      },
      "source": [
        "### Sequences\n",
        "Lists, tuples, and strings are all Python sequences, and share many of the same methods."
      ]
    },
    {
      "cell_type": "markdown",
      "metadata": {
        "id": "-oSu6gR9bjdj",
        "colab_type": "text"
      },
      "source": [
        "### Create a list"
      ]
    },
    {
      "cell_type": "markdown",
      "metadata": {
        "colab_type": "text",
        "id": "MgQzM2FbzhpW"
      },
      "source": [
        "#### Creating an empty list"
      ]
    },
    {
      "cell_type": "code",
      "metadata": {
        "colab_type": "code",
        "id": "1gUdm3jfzlCB",
        "outputId": "e49f044d-fbac-48d8-d9bc-10d651ae1b37",
        "colab": {
          "base_uri": "https://localhost:8080/",
          "height": 35
        }
      },
      "source": [
        "empty = []\n",
        "empty"
      ],
      "execution_count": 0,
      "outputs": [
        {
          "output_type": "execute_result",
          "data": {
            "text/plain": [
              "[]"
            ]
          },
          "metadata": {
            "tags": []
          },
          "execution_count": 2
        }
      ]
    },
    {
      "cell_type": "markdown",
      "metadata": {
        "colab_type": "text",
        "id": "fLx7Rtstz3Pn"
      },
      "source": [
        "#### Using square brackets with initial values"
      ]
    },
    {
      "cell_type": "code",
      "metadata": {
        "colab_type": "code",
        "id": "X6_VTC9moTAM",
        "outputId": "3db59968-b2a5-414d-a0a0-0518e4a7b4e9",
        "colab": {
          "base_uri": "https://localhost:8080/",
          "height": 35
        }
      },
      "source": [
        "numbers = [1, 2, 3, 4, 5, 6, 7]\n",
        "numbers\n"
      ],
      "execution_count": 0,
      "outputs": [
        {
          "output_type": "execute_result",
          "data": {
            "text/plain": [
              "[1, 2, 3, 4, 5, 6, 7]"
            ]
          },
          "metadata": {
            "tags": []
          },
          "execution_count": 30
        }
      ]
    },
    {
      "cell_type": "markdown",
      "metadata": {
        "colab_type": "text",
        "id": "h9l7kUOC43iL"
      },
      "source": [
        "#### Mixing data types\n",
        "Lists can contain multple data types"
      ]
    },
    {
      "cell_type": "code",
      "metadata": {
        "colab_type": "code",
        "id": "jBqfcq6Q4-Yl",
        "outputId": "930db34c-c470-4c5e-cc89-7bba4c03a1c0",
        "colab": {
          "base_uri": "https://localhost:8080/",
          "height": 35
        }
      },
      "source": [
        "mixed = ['a', 1, 2.0, [13], {}]\n",
        "mixed"
      ],
      "execution_count": 0,
      "outputs": [
        {
          "output_type": "execute_result",
          "data": {
            "text/plain": [
              "['a', 1, 2.0, [13], {}]"
            ]
          },
          "metadata": {
            "tags": []
          },
          "execution_count": 4
        }
      ]
    },
    {
      "cell_type": "markdown",
      "metadata": {
        "id": "2niJlWMAZMCu",
        "colab_type": "text"
      },
      "source": [
        "### **Exercise**\n",
        "- Create a list named ***first_list*** containing 5 integers and a *string* at the end"
      ]
    },
    {
      "cell_type": "markdown",
      "metadata": {
        "colab_type": "text",
        "id": "_rehYX145nEk"
      },
      "source": [
        "### Access item within a list\n",
        "Items in lists can be accessed using indices in a similar fashion to strings."
      ]
    },
    {
      "cell_type": "markdown",
      "metadata": {
        "colab_type": "text",
        "id": "PuGNKkIV5_64"
      },
      "source": [
        "#### Access first item"
      ]
    },
    {
      "cell_type": "code",
      "metadata": {
        "id": "tSaxyhcbaHO4",
        "colab_type": "code",
        "outputId": "e45df019-9b9c-47d7-b172-80b1cf36d995",
        "colab": {
          "base_uri": "https://localhost:8080/",
          "height": 35
        }
      },
      "source": [
        "numbers"
      ],
      "execution_count": 0,
      "outputs": [
        {
          "output_type": "execute_result",
          "data": {
            "text/plain": [
              "[1, 2, 3, 4, 5, 6, 7]"
            ]
          },
          "metadata": {
            "tags": []
          },
          "execution_count": 31
        }
      ]
    },
    {
      "cell_type": "code",
      "metadata": {
        "colab_type": "code",
        "id": "98QVzpN_ogFQ",
        "outputId": "84c61f07-487e-432e-8a1a-62fdb2fddf30",
        "colab": {
          "base_uri": "https://localhost:8080/",
          "height": 35
        }
      },
      "source": [
        "numbers[0]\n"
      ],
      "execution_count": 0,
      "outputs": [
        {
          "output_type": "execute_result",
          "data": {
            "text/plain": [
              "1"
            ]
          },
          "metadata": {
            "tags": []
          },
          "execution_count": 32
        }
      ]
    },
    {
      "cell_type": "markdown",
      "metadata": {
        "colab_type": "text",
        "id": "wYljuMmX6FDo"
      },
      "source": [
        "#### Access last item"
      ]
    },
    {
      "cell_type": "code",
      "metadata": {
        "colab_type": "code",
        "id": "j5XB0hVZ6S5E",
        "outputId": "75dbcca9-a94a-4c4b-c2b4-03450c128582",
        "colab": {
          "base_uri": "https://localhost:8080/",
          "height": 35
        }
      },
      "source": [
        "numbers[-1]"
      ],
      "execution_count": 0,
      "outputs": [
        {
          "output_type": "execute_result",
          "data": {
            "text/plain": [
              "7"
            ]
          },
          "metadata": {
            "tags": []
          },
          "execution_count": 33
        }
      ]
    },
    {
      "cell_type": "markdown",
      "metadata": {
        "colab_type": "text",
        "id": "tZJYdQW87vwk"
      },
      "source": [
        "#### Access any item"
      ]
    },
    {
      "cell_type": "code",
      "metadata": {
        "colab_type": "code",
        "id": "7EJZyQUl7y_5",
        "outputId": "c79cfd1d-0169-44fd-cdfa-fb1282b9b47c",
        "colab": {
          "base_uri": "https://localhost:8080/",
          "height": 35
        }
      },
      "source": [
        "numbers[4]"
      ],
      "execution_count": 0,
      "outputs": [
        {
          "output_type": "execute_result",
          "data": {
            "text/plain": [
              "5"
            ]
          },
          "metadata": {
            "tags": []
          },
          "execution_count": 34
        }
      ]
    },
    {
      "cell_type": "markdown",
      "metadata": {
        "id": "Gt67LsqQaSlt",
        "colab_type": "text"
      },
      "source": [
        "### **Exercise**\n",
        "Create the following list:\n",
        "- `random_list = [1,9,'hey','Data Science', 'fun', [1,2]]`\n",
        "- Access the last element from the list\n",
        "   - **Bonus**: Access the last element from the last element of the list\n",
        "- Access the second last element from the list\n"
      ]
    },
    {
      "cell_type": "markdown",
      "metadata": {
        "id": "jEIcUNYIbq1k",
        "colab_type": "text"
      },
      "source": [
        "### Access multiple items within a list"
      ]
    },
    {
      "cell_type": "markdown",
      "metadata": {
        "id": "qDp9RZbhb3K4",
        "colab_type": "text"
      },
      "source": [
        "#### From an index to the end of the list"
      ]
    },
    {
      "cell_type": "code",
      "metadata": {
        "id": "Oe67RP8Sbuo0",
        "colab_type": "code",
        "outputId": "ccc8ed36-4cd0-4bd0-dafc-d9d42574a648",
        "colab": {
          "base_uri": "https://localhost:8080/",
          "height": 35
        }
      },
      "source": [
        "numbers[1:]"
      ],
      "execution_count": 0,
      "outputs": [
        {
          "output_type": "execute_result",
          "data": {
            "text/plain": [
              "[2, 3, 4, 5, 6, 7]"
            ]
          },
          "metadata": {
            "tags": []
          },
          "execution_count": 35
        }
      ]
    },
    {
      "cell_type": "markdown",
      "metadata": {
        "id": "N-JdwCNRb_Pf",
        "colab_type": "text"
      },
      "source": [
        "#### Until specific index of list"
      ]
    },
    {
      "cell_type": "code",
      "metadata": {
        "id": "PH6bK9P3cJ3A",
        "colab_type": "code",
        "outputId": "999f6279-7f13-42ef-ee7f-aa9c468d46f4",
        "colab": {
          "base_uri": "https://localhost:8080/",
          "height": 35
        }
      },
      "source": [
        "numbers[:2]"
      ],
      "execution_count": 0,
      "outputs": [
        {
          "output_type": "execute_result",
          "data": {
            "text/plain": [
              "[1, 2]"
            ]
          },
          "metadata": {
            "tags": []
          },
          "execution_count": 36
        }
      ]
    },
    {
      "cell_type": "markdown",
      "metadata": {
        "id": "4fqf0QgGcMrI",
        "colab_type": "text"
      },
      "source": [
        "#### Between indexes"
      ]
    },
    {
      "cell_type": "code",
      "metadata": {
        "id": "eMgI2TPVcPxI",
        "colab_type": "code",
        "outputId": "5ea4b6fd-b114-4e9a-f7b3-7e351881f74e",
        "colab": {
          "base_uri": "https://localhost:8080/",
          "height": 35
        }
      },
      "source": [
        "numbers[4:6]"
      ],
      "execution_count": 0,
      "outputs": [
        {
          "output_type": "execute_result",
          "data": {
            "text/plain": [
              "[5, 6]"
            ]
          },
          "metadata": {
            "tags": []
          },
          "execution_count": 37
        }
      ]
    },
    {
      "cell_type": "markdown",
      "metadata": {
        "id": "6Ikzh8Nbcf8Y",
        "colab_type": "text"
      },
      "source": [
        "### **Exercise**\n",
        "From the random_list defined in the last exercise\n",
        "```random_list = [1,9,'hey','Data Science', 'fun', [1,2]]```\n",
        "\n",
        "- Extract items 3 to 5\n",
        "\n",
        "\n"
      ]
    },
    {
      "cell_type": "markdown",
      "metadata": {
        "colab_type": "text",
        "id": "g4-XjayC8KO7"
      },
      "source": [
        "### Adding to a list"
      ]
    },
    {
      "cell_type": "markdown",
      "metadata": {
        "colab_type": "text",
        "id": "VVoxc0Co81iD"
      },
      "source": [
        "#### Append to the end of a list"
      ]
    },
    {
      "cell_type": "code",
      "metadata": {
        "colab_type": "code",
        "id": "7l9O1BOz89Sg",
        "outputId": "5be883fb-65cd-4651-fcb9-35bedf6b3f60",
        "colab": {
          "base_uri": "https://localhost:8080/",
          "height": 35
        }
      },
      "source": [
        "letters = ['a']\n",
        "letters.append('c')\n",
        "letters"
      ],
      "execution_count": 0,
      "outputs": [
        {
          "output_type": "execute_result",
          "data": {
            "text/plain": [
              "['a', 'c']"
            ]
          },
          "metadata": {
            "tags": []
          },
          "execution_count": 21
        }
      ]
    },
    {
      "cell_type": "markdown",
      "metadata": {
        "colab_type": "text",
        "id": "GOWYij2p9bwL"
      },
      "source": [
        "#### Insert at beginning of list"
      ]
    },
    {
      "cell_type": "code",
      "metadata": {
        "colab_type": "code",
        "id": "KgMcKp5W9fI7",
        "outputId": "0130ba84-5b9d-4d37-d4ac-c5ae198e5e27",
        "colab": {
          "base_uri": "https://localhost:8080/",
          "height": 35
        }
      },
      "source": [
        "letters.insert(0, 'b')\n",
        "letters"
      ],
      "execution_count": 0,
      "outputs": [
        {
          "output_type": "execute_result",
          "data": {
            "text/plain": [
              "['b', 'a', 'c']"
            ]
          },
          "metadata": {
            "tags": []
          },
          "execution_count": 22
        }
      ]
    },
    {
      "cell_type": "markdown",
      "metadata": {
        "colab_type": "text",
        "id": "z2pfGnq7-PHc"
      },
      "source": [
        "#### Insert at arbitrary position"
      ]
    },
    {
      "cell_type": "code",
      "metadata": {
        "colab_type": "code",
        "id": "SgovUUMS-TxT",
        "outputId": "875ad354-4b32-4537-d774-3d6b29433e24",
        "colab": {
          "base_uri": "https://localhost:8080/",
          "height": 35
        }
      },
      "source": [
        "letters.insert(2, 'c')\n",
        "letters"
      ],
      "execution_count": 0,
      "outputs": [
        {
          "output_type": "execute_result",
          "data": {
            "text/plain": [
              "['b', 'a', 'c', 'c']"
            ]
          },
          "metadata": {
            "tags": []
          },
          "execution_count": 23
        }
      ]
    },
    {
      "cell_type": "markdown",
      "metadata": {
        "colab_type": "text",
        "id": "W2WMgepZAjkO"
      },
      "source": [
        "#### Extending with another list"
      ]
    },
    {
      "cell_type": "code",
      "metadata": {
        "colab_type": "code",
        "id": "UYn06yndAoNH",
        "outputId": "f30aa012-4100-482d-fc31-eba690fcf9dd",
        "colab": {
          "base_uri": "https://localhost:8080/",
          "height": 35
        }
      },
      "source": [
        "more_letters = ['e', 'f', 'g']\n",
        "letters.extend(more_letters)\n",
        "letters"
      ],
      "execution_count": 0,
      "outputs": [
        {
          "output_type": "execute_result",
          "data": {
            "text/plain": [
              "['b', 'a', 'c', 'c', 'e', 'f', 'g']"
            ]
          },
          "metadata": {
            "tags": []
          },
          "execution_count": 24
        }
      ]
    },
    {
      "cell_type": "markdown",
      "metadata": {
        "id": "xf-vYnYMeXxO",
        "colab_type": "text"
      },
      "source": [
        "### **Exercise**\n",
        "\n",
        "From the random_list defined in the last exercise\n",
        "```random_list = [1,9,'hey','Data Science', 'fun', [1,2]]```\n",
        "\n",
        "- Add `'I love data'` at the end\n",
        "- Add `'I am a genious'` at the 5th position\n"
      ]
    },
    {
      "cell_type": "markdown",
      "metadata": {
        "colab_type": "text",
        "id": "wzPgAr_s_CrC"
      },
      "source": [
        "### Change item at some position"
      ]
    },
    {
      "cell_type": "code",
      "metadata": {
        "colab_type": "code",
        "id": "BZGy8c8bov2q",
        "outputId": "1e663c25-7acb-494c-f3d4-6afe4feb1986",
        "colab": {
          "base_uri": "https://localhost:8080/",
          "height": 35
        }
      },
      "source": [
        "letters[3] = 'd'\n",
        "letters"
      ],
      "execution_count": 0,
      "outputs": [
        {
          "output_type": "execute_result",
          "data": {
            "text/plain": [
              "['b', 'a', 'c', 'd', 'e', 'f', 'g']"
            ]
          },
          "metadata": {
            "tags": []
          },
          "execution_count": 25
        }
      ]
    },
    {
      "cell_type": "markdown",
      "metadata": {
        "colab_type": "text",
        "id": "RNirVSMaHOp4"
      },
      "source": [
        "### Removing items from a list"
      ]
    },
    {
      "cell_type": "markdown",
      "metadata": {
        "colab_type": "text",
        "id": "K0ecop0OHXo_"
      },
      "source": [
        "#### Pop from the end"
      ]
    },
    {
      "cell_type": "code",
      "metadata": {
        "colab_type": "code",
        "id": "ZfFG3MZ7HdXa",
        "outputId": "fe842c28-5813-4286-df92-908864af1f53",
        "colab": {
          "base_uri": "https://localhost:8080/",
          "height": 34
        }
      },
      "source": [
        "letters = ['a', 'b', 'c', 'd', 'e', 'f']\n",
        "letters.pop()\n",
        "letters"
      ],
      "execution_count": 0,
      "outputs": [
        {
          "output_type": "execute_result",
          "data": {
            "text/plain": [
              "['a', 'b', 'c', 'd', 'e']"
            ]
          },
          "metadata": {
            "tags": []
          },
          "execution_count": 20
        }
      ]
    },
    {
      "cell_type": "markdown",
      "metadata": {
        "colab_type": "text",
        "id": "WSm1EhxBH8a2"
      },
      "source": [
        "#### Pop by index"
      ]
    },
    {
      "cell_type": "code",
      "metadata": {
        "colab_type": "code",
        "id": "R62Fg9l4IAYV",
        "outputId": "a6bc87d5-46e8-4383-ced0-e53c67026e43",
        "colab": {
          "base_uri": "https://localhost:8080/",
          "height": 34
        }
      },
      "source": [
        "letters.pop(2)\n",
        "letters"
      ],
      "execution_count": 0,
      "outputs": [
        {
          "output_type": "execute_result",
          "data": {
            "text/plain": [
              "['a', 'b', 'd', 'e']"
            ]
          },
          "metadata": {
            "tags": []
          },
          "execution_count": 21
        }
      ]
    },
    {
      "cell_type": "markdown",
      "metadata": {
        "colab_type": "text",
        "id": "wDhR89qxIUEh"
      },
      "source": [
        "#### Remove specific item"
      ]
    },
    {
      "cell_type": "code",
      "metadata": {
        "colab_type": "code",
        "id": "cAyAJIeOpYrU",
        "outputId": "60762469-653a-4e89-8ffc-4082273b728e",
        "colab": {
          "base_uri": "https://localhost:8080/",
          "height": 34
        }
      },
      "source": [
        "letters.remove('d')\n",
        "letters"
      ],
      "execution_count": 0,
      "outputs": [
        {
          "output_type": "execute_result",
          "data": {
            "text/plain": [
              "['a', 'b', 'e']"
            ]
          },
          "metadata": {
            "tags": []
          },
          "execution_count": 22
        }
      ]
    },
    {
      "cell_type": "markdown",
      "metadata": {
        "id": "izbfi3JwfBiG",
        "colab_type": "text"
      },
      "source": [
        "### **Exercise**\n",
        "\n",
        "- Remove `'I am a genious'` from the `random_list`\n",
        "- Remove the 4th item"
      ]
    },
    {
      "cell_type": "markdown",
      "metadata": {
        "id": "v-uPcVHVdZNc",
        "colab_type": "text"
      },
      "source": [
        "### Create tuple"
      ]
    },
    {
      "cell_type": "markdown",
      "metadata": {
        "colab_type": "text",
        "id": "D9_M_6cwUAaX"
      },
      "source": [
        "#### Create tuple using brackets\n",
        "\n"
      ]
    },
    {
      "cell_type": "code",
      "metadata": {
        "colab_type": "code",
        "id": "7Zqb_MU2UEJa",
        "outputId": "0b125537-00c5-4bd2-85d4-3dc130fcf6b7",
        "colab": {
          "base_uri": "https://localhost:8080/",
          "height": 34
        }
      },
      "source": [
        "tup = (1, 2, 3)\n",
        "tup"
      ],
      "execution_count": 0,
      "outputs": [
        {
          "output_type": "execute_result",
          "data": {
            "text/plain": [
              "(1, 2, 3)"
            ]
          },
          "metadata": {
            "tags": []
          },
          "execution_count": 23
        }
      ]
    },
    {
      "cell_type": "markdown",
      "metadata": {
        "colab_type": "text",
        "id": "ep3XqjhqUIS1"
      },
      "source": [
        "#### Create tuple with commas"
      ]
    },
    {
      "cell_type": "code",
      "metadata": {
        "colab_type": "code",
        "id": "Oz8dkzlzUNEe",
        "outputId": "c8b25da2-8291-406f-b3e3-614cb7c06bba",
        "colab": {
          "base_uri": "https://localhost:8080/",
          "height": 34
        }
      },
      "source": [
        "tup = 1, 2, 3\n",
        "tup"
      ],
      "execution_count": 0,
      "outputs": [
        {
          "output_type": "execute_result",
          "data": {
            "text/plain": [
              "(1, 2, 3)"
            ]
          },
          "metadata": {
            "tags": []
          },
          "execution_count": 24
        }
      ]
    },
    {
      "cell_type": "markdown",
      "metadata": {
        "colab_type": "text",
        "id": "p5Ie15xNUvK-"
      },
      "source": [
        "#### Create empty tuple"
      ]
    },
    {
      "cell_type": "code",
      "metadata": {
        "colab_type": "code",
        "id": "6M3eLXfXUxLX",
        "outputId": "83081a8c-9e5b-4a5a-bd3e-248f805e6da7",
        "colab": {
          "base_uri": "https://localhost:8080/",
          "height": 34
        }
      },
      "source": [
        "tup = ()\n",
        "tup"
      ],
      "execution_count": 0,
      "outputs": [
        {
          "output_type": "execute_result",
          "data": {
            "text/plain": [
              "()"
            ]
          },
          "metadata": {
            "tags": []
          },
          "execution_count": 25
        }
      ]
    },
    {
      "cell_type": "markdown",
      "metadata": {
        "colab_type": "text",
        "id": "0YKr2HU6UzgT"
      },
      "source": [
        "#### Create tuple with single item"
      ]
    },
    {
      "cell_type": "code",
      "metadata": {
        "colab_type": "code",
        "id": "9ib336cLU3iu",
        "outputId": "1f47d8eb-ed90-4c0e-d759-e7aa76f4b11d",
        "colab": {
          "base_uri": "https://localhost:8080/",
          "height": 34
        }
      },
      "source": [
        "tup = 1,\n",
        "tup"
      ],
      "execution_count": 0,
      "outputs": [
        {
          "output_type": "execute_result",
          "data": {
            "text/plain": [
              "(1,)"
            ]
          },
          "metadata": {
            "tags": []
          },
          "execution_count": 28
        }
      ]
    },
    {
      "cell_type": "markdown",
      "metadata": {
        "colab_type": "text",
        "id": "a_eqCY6XTy1x"
      },
      "source": [
        "### Behaviours shared by lists and tuples\n",
        "The following sequence behaviors are shared by lists and tuples"
      ]
    },
    {
      "cell_type": "markdown",
      "metadata": {
        "colab_type": "text",
        "id": "HpNqX6QFLmdK"
      },
      "source": [
        "### Check item in sequence"
      ]
    },
    {
      "cell_type": "code",
      "metadata": {
        "colab_type": "code",
        "id": "NpIdl5Cfp7-f",
        "outputId": "1f78c614-29a9-42d7-d2da-300df5698dfc",
        "colab": {
          "base_uri": "https://localhost:8080/",
          "height": 34
        }
      },
      "source": [
        "3 in (1, 2, 3, 4, 5)"
      ],
      "execution_count": 0,
      "outputs": [
        {
          "output_type": "execute_result",
          "data": {
            "text/plain": [
              "True"
            ]
          },
          "metadata": {
            "tags": []
          },
          "execution_count": 29
        }
      ]
    },
    {
      "cell_type": "markdown",
      "metadata": {
        "colab_type": "text",
        "id": "Ms_bF8BjL79W"
      },
      "source": [
        "### Check item not in sequence"
      ]
    },
    {
      "cell_type": "code",
      "metadata": {
        "colab_type": "code",
        "id": "gLXaJE6EMGyb",
        "outputId": "786985a3-a630-4617-a4d3-babd7fca9e77",
        "colab": {
          "base_uri": "https://localhost:8080/",
          "height": 34
        }
      },
      "source": [
        "'a' not in [1, 2, 3, 4, 5]"
      ],
      "execution_count": 0,
      "outputs": [
        {
          "output_type": "execute_result",
          "data": {
            "text/plain": [
              "True"
            ]
          },
          "metadata": {
            "tags": []
          },
          "execution_count": 30
        }
      ]
    },
    {
      "cell_type": "markdown",
      "metadata": {
        "colab_type": "text",
        "id": "UNKJxMb6Mipn"
      },
      "source": [
        "### Slicing"
      ]
    },
    {
      "cell_type": "markdown",
      "metadata": {
        "colab_type": "text",
        "id": "r_fLVxRhNWLA"
      },
      "source": [
        "#### Setting start, slice to the end"
      ]
    },
    {
      "cell_type": "code",
      "metadata": {
        "colab_type": "code",
        "id": "098SVCIvsibb",
        "outputId": "8a737bd9-05af-4f95-fdc4-aa882fef47c9",
        "colab": {
          "base_uri": "https://localhost:8080/",
          "height": 34
        }
      },
      "source": [
        "letters = 'a', 'b', 'c', 'd', 'e', 'f'\n",
        "letters[3:4]\n"
      ],
      "execution_count": 0,
      "outputs": [
        {
          "output_type": "execute_result",
          "data": {
            "text/plain": [
              "('d',)"
            ]
          },
          "metadata": {
            "tags": []
          },
          "execution_count": 32
        }
      ]
    },
    {
      "cell_type": "markdown",
      "metadata": {
        "colab_type": "text",
        "id": "dsNvabgmNeqw"
      },
      "source": [
        "#### Set end, slice from beginning"
      ]
    },
    {
      "cell_type": "code",
      "metadata": {
        "colab_type": "code",
        "id": "QVNJeYVtNh56",
        "outputId": "249d9c60-e20c-4d78-dc02-67b74b17fe17",
        "colab": {
          "base_uri": "https://localhost:8080/",
          "height": 34
        }
      },
      "source": [
        "letters[:4]"
      ],
      "execution_count": 0,
      "outputs": [
        {
          "output_type": "execute_result",
          "data": {
            "text/plain": [
              "('a', 'b', 'c', 'd')"
            ]
          },
          "metadata": {
            "tags": []
          },
          "execution_count": 33
        }
      ]
    },
    {
      "cell_type": "markdown",
      "metadata": {
        "colab_type": "text",
        "id": "Lrd7HuHnNvIi"
      },
      "source": [
        "#### Index from end of sequence"
      ]
    },
    {
      "cell_type": "code",
      "metadata": {
        "colab_type": "code",
        "id": "9XiynpN9M9V_",
        "outputId": "3b8497e3-1219-496f-ec24-6c99dbd3ff8c",
        "colab": {
          "base_uri": "https://localhost:8080/",
          "height": 34
        }
      },
      "source": [
        "letters[-4:]"
      ],
      "execution_count": 0,
      "outputs": [
        {
          "output_type": "execute_result",
          "data": {
            "text/plain": [
              "('c', 'd', 'e', 'f')"
            ]
          },
          "metadata": {
            "tags": []
          },
          "execution_count": 34
        }
      ]
    },
    {
      "cell_type": "markdown",
      "metadata": {
        "colab_type": "text",
        "id": "Lzkr-snEOEE9"
      },
      "source": [
        "#### Setting step"
      ]
    },
    {
      "cell_type": "code",
      "metadata": {
        "id": "blNlQ4Iizj25",
        "colab_type": "code",
        "colab": {}
      },
      "source": [
        "letters[1::-2]"
      ],
      "execution_count": 0,
      "outputs": []
    },
    {
      "cell_type": "markdown",
      "metadata": {
        "id": "wGDfkf-7zldM",
        "colab_type": "text"
      },
      "source": [
        "### **Exercise**\n",
        "\n",
        "- `random_tuple = (1,9,'hey','Data Science', 'fun', [1,2])`\n",
        "- Extract items 3 to 5\n",
        "- Try to add 4 at the end of the `tuple`"
      ]
    },
    {
      "cell_type": "markdown",
      "metadata": {
        "colab_type": "text",
        "id": "SxpzGoM_Z_RU"
      },
      "source": [
        "## 2. Dictionaries \n",
        "Dictionaries are mappings of key value pairs."
      ]
    },
    {
      "cell_type": "markdown",
      "metadata": {
        "colab_type": "text",
        "id": "l9nWQuW1oLCE"
      },
      "source": [
        "### Create an empty dict using constructor"
      ]
    },
    {
      "cell_type": "code",
      "metadata": {
        "colab_type": "code",
        "id": "45C_FS-eoR-3",
        "outputId": "d6271447-50d7-403b-fb43-8ddad75240bf",
        "colab": {
          "base_uri": "https://localhost:8080/",
          "height": 35
        }
      },
      "source": [
        "dictionary = dict()\n",
        "dictionary"
      ],
      "execution_count": 0,
      "outputs": [
        {
          "output_type": "execute_result",
          "data": {
            "text/plain": [
              "{}"
            ]
          },
          "metadata": {
            "tags": []
          },
          "execution_count": 10
        }
      ]
    },
    {
      "cell_type": "markdown",
      "metadata": {
        "colab_type": "text",
        "id": "uwNpFQFGo0C_"
      },
      "source": [
        "### Create a dictionary based on key/value pairs"
      ]
    },
    {
      "cell_type": "code",
      "metadata": {
        "colab_type": "code",
        "id": "VWYvp8peo5ok",
        "outputId": "dee7631c-43b0-4f7a-c4d4-7f50133c5260",
        "colab": {
          "base_uri": "https://localhost:8080/",
          "height": 35
        }
      },
      "source": [
        "key_values = [['key-1','value-1'], ['key-2', 'value-2']]\n",
        "dictionary = dict(key_values)\n",
        "dictionary"
      ],
      "execution_count": 0,
      "outputs": [
        {
          "output_type": "execute_result",
          "data": {
            "text/plain": [
              "{'key-1': 'value-1', 'key-2': 'value-2'}"
            ]
          },
          "metadata": {
            "tags": []
          },
          "execution_count": 11
        }
      ]
    },
    {
      "cell_type": "markdown",
      "metadata": {
        "colab_type": "text",
        "id": "oLd8LV02ofza"
      },
      "source": [
        "### Create an empty dict using curley braces"
      ]
    },
    {
      "cell_type": "code",
      "metadata": {
        "colab_type": "code",
        "id": "El6HcTagolLw",
        "outputId": "7e6dc342-1727-43c0-a5e9-1e3df4aaa90e",
        "colab": {
          "base_uri": "https://localhost:8080/",
          "height": 35
        }
      },
      "source": [
        "dictionary = {}\n",
        "dictionary"
      ],
      "execution_count": 0,
      "outputs": [
        {
          "output_type": "execute_result",
          "data": {
            "text/plain": [
              "{}"
            ]
          },
          "metadata": {
            "tags": []
          },
          "execution_count": 12
        }
      ]
    },
    {
      "cell_type": "markdown",
      "metadata": {
        "colab_type": "text",
        "id": "yXNaZRMdpQoK"
      },
      "source": [
        "### Use curley braces to create a dictionary with initial key/values"
      ]
    },
    {
      "cell_type": "code",
      "metadata": {
        "colab_type": "code",
        "id": "oRTWGBtvpYcb",
        "outputId": "8f741da9-6abe-4b0e-fd20-69e93d4b2c3d",
        "colab": {
          "base_uri": "https://localhost:8080/",
          "height": 35
        }
      },
      "source": [
        "dictionary = {'key-1': 'value-1',\n",
        "              'key-2': 'value-2'}\n",
        "\n",
        "dictionary"
      ],
      "execution_count": 0,
      "outputs": [
        {
          "output_type": "execute_result",
          "data": {
            "text/plain": [
              "{'key-1': 'value-1', 'key-2': 'value-2'}"
            ]
          },
          "metadata": {
            "tags": []
          },
          "execution_count": 13
        }
      ]
    },
    {
      "cell_type": "markdown",
      "metadata": {
        "id": "ttLJtH1d0guL",
        "colab_type": "text"
      },
      "source": [
        "### **Exercise**\n",
        "\n",
        "- Create a dictionnary `country_main_city` with keys\n",
        "\n",
        "\n",
        " `['France', 'Germany', 'Syria', 'Turkey', 'Nigeria', 'Argentina']`\n",
        "\n",
        " And values \n",
        "\n",
        "` ['Paris', 'Berlin', 'Damascus', 'Ankara', 'Abuja', 'Buenos Aires']`"
      ]
    },
    {
      "cell_type": "markdown",
      "metadata": {
        "colab_type": "text",
        "id": "vb9aP6o5pv_B"
      },
      "source": [
        "### Access value using key"
      ]
    },
    {
      "cell_type": "code",
      "metadata": {
        "colab_type": "code",
        "id": "3-jz1H8Apzgm",
        "outputId": "17b915b8-87b5-4fa3-b1d9-540b41b3a3f6",
        "colab": {
          "base_uri": "https://localhost:8080/",
          "height": 35
        }
      },
      "source": [
        "dictionary['key-1']"
      ],
      "execution_count": 0,
      "outputs": [
        {
          "output_type": "execute_result",
          "data": {
            "text/plain": [
              "'value-1'"
            ]
          },
          "metadata": {
            "tags": []
          },
          "execution_count": 14
        }
      ]
    },
    {
      "cell_type": "markdown",
      "metadata": {
        "id": "0JQVmd5_1aUn",
        "colab_type": "text"
      },
      "source": [
        "### **Exercise**\n",
        "\n",
        "Using the dictionnary `country_main_city` extract the capital of Nigeria"
      ]
    },
    {
      "cell_type": "markdown",
      "metadata": {
        "colab_type": "text",
        "id": "UBSLRWEeqE-W"
      },
      "source": [
        "### Add a key/value pair to an existing dictionary"
      ]
    },
    {
      "cell_type": "code",
      "metadata": {
        "colab_type": "code",
        "id": "J98co3mWqJ5I",
        "outputId": "11e0ef4c-6c6b-46d1-cc31-106a9defc4ba",
        "colab": {
          "base_uri": "https://localhost:8080/",
          "height": 35
        }
      },
      "source": [
        "dictionary['key-3'] = 'value-3'\n",
        "\n",
        "dictionary"
      ],
      "execution_count": 0,
      "outputs": [
        {
          "output_type": "execute_result",
          "data": {
            "text/plain": [
              "{'key-1': 'value-1', 'key-2': 'value-2', 'key-3': 'value-3'}"
            ]
          },
          "metadata": {
            "tags": []
          },
          "execution_count": 15
        }
      ]
    },
    {
      "cell_type": "markdown",
      "metadata": {
        "colab_type": "text",
        "id": "xmHWK2hHq7c_"
      },
      "source": [
        "### Update value for existing key"
      ]
    },
    {
      "cell_type": "code",
      "metadata": {
        "colab_type": "code",
        "id": "VrV2r-vUq-JV",
        "outputId": "8864c758-e793-49bb-a5ed-6c5524c62c4a",
        "colab": {
          "base_uri": "https://localhost:8080/",
          "height": 35
        }
      },
      "source": [
        "dictionary['key-2'] = 'new-value-2'\n",
        "dictionary['key-2']"
      ],
      "execution_count": 0,
      "outputs": [
        {
          "output_type": "execute_result",
          "data": {
            "text/plain": [
              "'new-value-2'"
            ]
          },
          "metadata": {
            "tags": []
          },
          "execution_count": 16
        }
      ]
    },
    {
      "cell_type": "markdown",
      "metadata": {
        "id": "fuO7wPXA1p8r",
        "colab_type": "text"
      },
      "source": [
        "### **Exercise**\n",
        "\n",
        "Add the capital of Italy to the dictionnary `country_main_city`"
      ]
    },
    {
      "cell_type": "markdown",
      "metadata": {
        "colab_type": "text",
        "id": "_ot60Snlra6K"
      },
      "source": [
        "### Get keys"
      ]
    },
    {
      "cell_type": "code",
      "metadata": {
        "colab_type": "code",
        "id": "Lv726tMhrYnh",
        "outputId": "6fab905a-3293-41a4-ea8b-8682b63ecf87",
        "colab": {
          "base_uri": "https://localhost:8080/",
          "height": 35
        }
      },
      "source": [
        "list(dictionary.keys())"
      ],
      "execution_count": 0,
      "outputs": [
        {
          "output_type": "execute_result",
          "data": {
            "text/plain": [
              "['key-1', 'key-2', 'key-3']"
            ]
          },
          "metadata": {
            "tags": []
          },
          "execution_count": 17
        }
      ]
    },
    {
      "cell_type": "markdown",
      "metadata": {
        "colab_type": "text",
        "id": "WGJyKhKgrf11"
      },
      "source": [
        "### Get values"
      ]
    },
    {
      "cell_type": "code",
      "metadata": {
        "colab_type": "code",
        "id": "F7F-fNMMrhT5",
        "outputId": "82537e74-b1c0-4dbc-e782-e5b1d1d4cade",
        "colab": {
          "base_uri": "https://localhost:8080/",
          "height": 35
        }
      },
      "source": [
        "dictionary.values()"
      ],
      "execution_count": 0,
      "outputs": [
        {
          "output_type": "execute_result",
          "data": {
            "text/plain": [
              "dict_values(['value-1', 'new-value-2', 'value-3'])"
            ]
          },
          "metadata": {
            "tags": []
          },
          "execution_count": 18
        }
      ]
    },
    {
      "cell_type": "markdown",
      "metadata": {
        "id": "ocnKMmBD14a1",
        "colab_type": "text"
      },
      "source": [
        "### **Exercise**\n",
        "\n",
        "Extract every capital city from `country_main_city`"
      ]
    },
    {
      "cell_type": "markdown",
      "metadata": {
        "colab_type": "text",
        "id": "9fqITS30sJC6"
      },
      "source": [
        "### Check if dictionary has key\n",
        "The 'in' syntax we used with sequences checks the dicts keys for membership."
      ]
    },
    {
      "cell_type": "code",
      "metadata": {
        "colab_type": "code",
        "id": "c1XdFLXNsWVq",
        "outputId": "fc5b766b-be93-4d8f-95e0-fd17f981bee0",
        "colab": {
          "base_uri": "https://localhost:8080/",
          "height": 34
        }
      },
      "source": [
        "'key-5' in dictionary"
      ],
      "execution_count": 0,
      "outputs": [
        {
          "output_type": "execute_result",
          "data": {
            "text/plain": [
              "False"
            ]
          },
          "metadata": {
            "tags": []
          },
          "execution_count": 60
        }
      ]
    },
    {
      "cell_type": "markdown",
      "metadata": {
        "colab_type": "text",
        "id": "YmWqelbJthVB"
      },
      "source": [
        "### Remove item"
      ]
    },
    {
      "cell_type": "code",
      "metadata": {
        "colab_type": "code",
        "id": "tOLuWnHEtkjT",
        "outputId": "e90cf788-09a9-4e0a-9231-b29f8c070fab",
        "colab": {
          "base_uri": "https://localhost:8080/",
          "height": 34
        }
      },
      "source": [
        "del(dictionary['key-1'])\n",
        "dictionary"
      ],
      "execution_count": 0,
      "outputs": [
        {
          "output_type": "execute_result",
          "data": {
            "text/plain": [
              "{'key-2': 'new-value-2', 'key-3': 'value-3'}"
            ]
          },
          "metadata": {
            "tags": []
          },
          "execution_count": 65
        }
      ]
    },
    {
      "cell_type": "markdown",
      "metadata": {
        "id": "AnFGTgxCiZnk",
        "colab_type": "text"
      },
      "source": [
        "### Keys must be immutable"
      ]
    },
    {
      "cell_type": "markdown",
      "metadata": {
        "id": "rnKNsxuZinvy",
        "colab_type": "text"
      },
      "source": [
        "#### List as key\n",
        "Lists are mutable and not hashable"
      ]
    },
    {
      "cell_type": "code",
      "metadata": {
        "id": "16t9F7PPipo4",
        "colab_type": "code",
        "outputId": "ad113919-80cc-44cd-cc76-ad1d252dde27",
        "colab": {
          "base_uri": "https://localhost:8080/",
          "height": 198
        }
      },
      "source": [
        "items = ['item-1', 'item-2', 'item-3']\n",
        "\n",
        "map = {}\n",
        "\n",
        "map[items] = \"some-value\""
      ],
      "execution_count": 0,
      "outputs": [
        {
          "output_type": "error",
          "ename": "TypeError",
          "evalue": "ignored",
          "traceback": [
            "\u001b[0;31m---------------------------------------------------------------------------\u001b[0m",
            "\u001b[0;31mTypeError\u001b[0m                                 Traceback (most recent call last)",
            "\u001b[0;32m<ipython-input-66-25faa77a670a>\u001b[0m in \u001b[0;36m<module>\u001b[0;34m()\u001b[0m\n\u001b[1;32m      3\u001b[0m \u001b[0mmap\u001b[0m \u001b[0;34m=\u001b[0m \u001b[0;34m{\u001b[0m\u001b[0;34m}\u001b[0m\u001b[0;34m\u001b[0m\u001b[0;34m\u001b[0m\u001b[0m\n\u001b[1;32m      4\u001b[0m \u001b[0;34m\u001b[0m\u001b[0m\n\u001b[0;32m----> 5\u001b[0;31m \u001b[0mmap\u001b[0m\u001b[0;34m[\u001b[0m\u001b[0mitems\u001b[0m\u001b[0;34m]\u001b[0m \u001b[0;34m=\u001b[0m \u001b[0;34m\"some-value\"\u001b[0m\u001b[0;34m\u001b[0m\u001b[0;34m\u001b[0m\u001b[0m\n\u001b[0m",
            "\u001b[0;31mTypeError\u001b[0m: unhashable type: 'list'"
          ]
        }
      ]
    },
    {
      "cell_type": "markdown",
      "metadata": {
        "id": "_9vXIamIjLER",
        "colab_type": "text"
      },
      "source": [
        "#### Tuple as a key\n",
        "Tuples are immutable and hence hashable"
      ]
    },
    {
      "cell_type": "code",
      "metadata": {
        "id": "K2pFCFu3jNRM",
        "colab_type": "code",
        "outputId": "5e1fc13f-b76f-45d5-9fff-359f6199972e",
        "colab": {
          "base_uri": "https://localhost:8080/",
          "height": 34
        }
      },
      "source": [
        "items = 'item-1', 'item-2', 'item-3'\n",
        "map = {}\n",
        "map[items] = \"some-value\"\n",
        "\n",
        "map"
      ],
      "execution_count": 0,
      "outputs": [
        {
          "output_type": "execute_result",
          "data": {
            "text/plain": [
              "{('item-1', 'item-2', 'item-3'): 'some-value'}"
            ]
          },
          "metadata": {
            "tags": []
          },
          "execution_count": 67
        }
      ]
    },
    {
      "cell_type": "markdown",
      "metadata": {
        "colab_type": "text",
        "id": "Y1rOvrTSaCnA"
      },
      "source": [
        "## 3. Sets"
      ]
    },
    {
      "cell_type": "markdown",
      "metadata": {
        "id": "b3DRVryT-s7N",
        "colab_type": "text"
      },
      "source": [
        "- Sets are mutable but items from the sets cannot be indexed \n",
        "- Sets are ordered and made of unique items"
      ]
    },
    {
      "cell_type": "markdown",
      "metadata": {
        "colab_type": "text",
        "id": "_Bu_DUont1Ks"
      },
      "source": [
        "### Create set from tuple or list"
      ]
    },
    {
      "cell_type": "code",
      "metadata": {
        "colab_type": "code",
        "id": "epPCLrckt4Zy",
        "outputId": "df768aae-5c29-492b-a444-d60735fb0f36",
        "colab": {
          "base_uri": "https://localhost:8080/",
          "height": 34
        }
      },
      "source": [
        "letters = 'a', 'a', 'a', 'b', 'c'\n",
        "unique_letters = set(letters)\n",
        "unique_letters"
      ],
      "execution_count": 0,
      "outputs": [
        {
          "output_type": "execute_result",
          "data": {
            "text/plain": [
              "{'a', 'b', 'c'}"
            ]
          },
          "metadata": {
            "tags": []
          },
          "execution_count": 68
        }
      ]
    },
    {
      "cell_type": "markdown",
      "metadata": {
        "colab_type": "text",
        "id": "qnQHMNCRuebg"
      },
      "source": [
        "### Create set from a string"
      ]
    },
    {
      "cell_type": "code",
      "metadata": {
        "colab_type": "code",
        "id": "IRsuJBVC_ORB",
        "outputId": "ffca987d-0534-4e4f-d660-24318b4c2795",
        "colab": {
          "base_uri": "https://localhost:8080/",
          "height": 34
        }
      },
      "source": [
        "unique_chars = set('mississippi')\n",
        "unique_chars"
      ],
      "execution_count": 0,
      "outputs": [
        {
          "output_type": "execute_result",
          "data": {
            "text/plain": [
              "{'i', 'm', 'p', 's'}"
            ]
          },
          "metadata": {
            "tags": []
          },
          "execution_count": 69
        }
      ]
    },
    {
      "cell_type": "markdown",
      "metadata": {
        "colab_type": "text",
        "id": "LUJyjEh1uzrv"
      },
      "source": [
        "### Create set using curley braces"
      ]
    },
    {
      "cell_type": "code",
      "metadata": {
        "id": "HyRgoKEhAeH_",
        "colab_type": "code",
        "colab": {}
      },
      "source": [
        "unique_num = {1, 1, 2, 3, 4, 5, 5}\n",
        "unique_num"
      ],
      "execution_count": 0,
      "outputs": []
    },
    {
      "cell_type": "markdown",
      "metadata": {
        "id": "mK1PZIgCAQRy",
        "colab_type": "text"
      },
      "source": [
        "### **Exercise**\n",
        "\n",
        "- Try to create a set called `random_set` with values `1,9,'hey','Data Science', 'fun', [1,2], 1, 'hey' ` What happens and why?\n",
        "- Now create a set with values `1,9,'hey','Data Science', 'fun', (1,2), 1, 'hey' `\n",
        "\n"
      ]
    },
    {
      "cell_type": "markdown",
      "metadata": {
        "colab_type": "text",
        "id": "jDMYvC0avu_C"
      },
      "source": [
        "### Adding to a set"
      ]
    },
    {
      "cell_type": "code",
      "metadata": {
        "colab_type": "code",
        "id": "hoZ7hcrBvwtc",
        "outputId": "1585f6f0-3122-480e-a69a-022460b0fbc7",
        "colab": {
          "base_uri": "https://localhost:8080/",
          "height": 34
        }
      },
      "source": [
        "unique_num.add(6)\n",
        "unique_num"
      ],
      "execution_count": 0,
      "outputs": [
        {
          "output_type": "execute_result",
          "data": {
            "text/plain": [
              "{1, 2, 3, 4, 5, 6}"
            ]
          },
          "metadata": {
            "tags": []
          },
          "execution_count": 72
        }
      ]
    },
    {
      "cell_type": "markdown",
      "metadata": {
        "colab_type": "text",
        "id": "o-UWnVB7v8yb"
      },
      "source": [
        "### Popping from a set\n",
        "Pop method removes and returns a random element of the set"
      ]
    },
    {
      "cell_type": "code",
      "metadata": {
        "colab_type": "code",
        "id": "e9xWJPXnwF4s",
        "outputId": "3d0bc7f2-3dda-4738-975b-011d09f8ec7f",
        "colab": {
          "base_uri": "https://localhost:8080/",
          "height": 34
        }
      },
      "source": [
        "unique_num.pop()"
      ],
      "execution_count": 0,
      "outputs": [
        {
          "output_type": "execute_result",
          "data": {
            "text/plain": [
              "2"
            ]
          },
          "metadata": {
            "tags": []
          },
          "execution_count": 74
        }
      ]
    },
    {
      "cell_type": "markdown",
      "metadata": {
        "colab_type": "text",
        "id": "VJjl2Fv9vLOl"
      },
      "source": [
        "### Indexing\n",
        "Sets have no order, and hence cannot be accessed via indexing"
      ]
    },
    {
      "cell_type": "code",
      "metadata": {
        "colab_type": "code",
        "id": "vxPCJWJOvShU",
        "outputId": "8bd70eb2-1c1d-4b64-f23b-dcf278c4a29f",
        "colab": {
          "base_uri": "https://localhost:8080/",
          "height": 164
        }
      },
      "source": [
        "unique_num[4]"
      ],
      "execution_count": 0,
      "outputs": [
        {
          "output_type": "error",
          "ename": "TypeError",
          "evalue": "ignored",
          "traceback": [
            "\u001b[0;31m---------------------------------------------------------------------------\u001b[0m",
            "\u001b[0;31mTypeError\u001b[0m                                 Traceback (most recent call last)",
            "\u001b[0;32m<ipython-input-75-c928415e5703>\u001b[0m in \u001b[0;36m<module>\u001b[0;34m()\u001b[0m\n\u001b[0;32m----> 1\u001b[0;31m \u001b[0munique_num\u001b[0m\u001b[0;34m[\u001b[0m\u001b[0;36m4\u001b[0m\u001b[0;34m]\u001b[0m\u001b[0;34m\u001b[0m\u001b[0;34m\u001b[0m\u001b[0m\n\u001b[0m",
            "\u001b[0;31mTypeError\u001b[0m: 'set' object does not support indexing"
          ]
        }
      ]
    },
    {
      "cell_type": "markdown",
      "metadata": {
        "colab_type": "text",
        "id": "TQyoEjgivjA3"
      },
      "source": [
        "### Checking membership"
      ]
    },
    {
      "cell_type": "code",
      "metadata": {
        "colab_type": "code",
        "id": "3zOvkWX6vlf2",
        "outputId": "020d8aef-4a5a-45fc-da0c-8e5a74240487",
        "colab": {
          "base_uri": "https://localhost:8080/",
          "height": 34
        }
      },
      "source": [
        "3 in unique_num"
      ],
      "execution_count": 0,
      "outputs": [
        {
          "output_type": "execute_result",
          "data": {
            "text/plain": [
              "True"
            ]
          },
          "metadata": {
            "tags": []
          },
          "execution_count": 76
        }
      ]
    },
    {
      "cell_type": "markdown",
      "metadata": {
        "colab_type": "text",
        "id": "6ph_k8RUweYA"
      },
      "source": [
        "### Set operations"
      ]
    },
    {
      "cell_type": "code",
      "metadata": {
        "colab_type": "code",
        "id": "7EfN4R5xwmXM",
        "colab": {}
      },
      "source": [
        "s1 = { 1 ,2 ,3 ,4, 5, 6, 7}\n",
        "s2 = { 0, 2, 4, 6, 8 }"
      ],
      "execution_count": 0,
      "outputs": []
    },
    {
      "cell_type": "markdown",
      "metadata": {
        "colab_type": "text",
        "id": "RAG3ATbtwtwm"
      },
      "source": [
        "#### Items in first set, but not in the second"
      ]
    },
    {
      "cell_type": "code",
      "metadata": {
        "colab_type": "code",
        "id": "kCfxlj9Lwz1x",
        "outputId": "3c3b92ad-959b-46bf-ecb0-2513886923b9",
        "colab": {
          "base_uri": "https://localhost:8080/",
          "height": 34
        }
      },
      "source": [
        "s1 - s2"
      ],
      "execution_count": 0,
      "outputs": [
        {
          "output_type": "execute_result",
          "data": {
            "text/plain": [
              "{1, 3, 5, 7}"
            ]
          },
          "metadata": {
            "tags": []
          },
          "execution_count": 78
        }
      ]
    },
    {
      "cell_type": "markdown",
      "metadata": {
        "colab_type": "text",
        "id": "KDA6bO1Vw8Bk"
      },
      "source": [
        "#### Items in either or both sets"
      ]
    },
    {
      "cell_type": "code",
      "metadata": {
        "colab_type": "code",
        "id": "a-1CBUnRw-y-",
        "outputId": "584219f7-80ba-4e24-f3ec-b833428bfc87",
        "colab": {
          "base_uri": "https://localhost:8080/",
          "height": 34
        }
      },
      "source": [
        "s1 | s2"
      ],
      "execution_count": 0,
      "outputs": [
        {
          "output_type": "execute_result",
          "data": {
            "text/plain": [
              "{0, 1, 2, 3, 4, 5, 6, 7, 8}"
            ]
          },
          "metadata": {
            "tags": []
          },
          "execution_count": 79
        }
      ]
    },
    {
      "cell_type": "markdown",
      "metadata": {
        "colab_type": "text",
        "id": "ADEQBlFrxIN7"
      },
      "source": [
        "#### Items in both sets"
      ]
    },
    {
      "cell_type": "code",
      "metadata": {
        "colab_type": "code",
        "id": "IIudbePtxRkR",
        "outputId": "ad5fcea8-8b15-467d-a895-c11e4caa8609",
        "colab": {
          "base_uri": "https://localhost:8080/",
          "height": 34
        }
      },
      "source": [
        "s1 & s2"
      ],
      "execution_count": 0,
      "outputs": [
        {
          "output_type": "execute_result",
          "data": {
            "text/plain": [
              "{2, 4, 6}"
            ]
          },
          "metadata": {
            "tags": []
          },
          "execution_count": 80
        }
      ]
    },
    {
      "cell_type": "markdown",
      "metadata": {
        "colab_type": "text",
        "id": "742awPXgxat5"
      },
      "source": [
        "#### Items in either set, but not both"
      ]
    },
    {
      "cell_type": "code",
      "metadata": {
        "colab_type": "code",
        "id": "03UonZ9G_jDc",
        "outputId": "b06f2369-fd8f-42a3-befb-d9af998f7076",
        "colab": {
          "base_uri": "https://localhost:8080/",
          "height": 34
        }
      },
      "source": [
        "s1 ^ s2"
      ],
      "execution_count": 0,
      "outputs": [
        {
          "output_type": "execute_result",
          "data": {
            "text/plain": [
              "{0, 1, 3, 5, 7, 8}"
            ]
          },
          "metadata": {
            "tags": []
          },
          "execution_count": 81
        }
      ]
    },
    {
      "cell_type": "markdown",
      "metadata": {
        "id": "ieSrR-OgBJbz",
        "colab_type": "text"
      },
      "source": [
        "### **Exercise**\n",
        "\n",
        "- Create a set with all the first names in the class\n",
        "- Create a dictionnary with all the names of student and teachers in the class and city of birth\n",
        "- Write a Python program to remove duplicates from a list.\n",
        "- Write a Python program to get the difference between the two lists.\n",
        "- Write a Python program to append a list to the second list.\n"
      ]
    },
    {
      "cell_type": "markdown",
      "metadata": {
        "colab_type": "text",
        "id": "g2UU5cr6rna6"
      },
      "source": [
        "# Notes:\n",
        "[Lists](https://docs.python.org/3/tutorial/datastructures.html)\n",
        "\n",
        "[Tuples and sequences](https://docs.python.org/3/tutorial/datastructures.html#tuples-and-sequences)\n",
        "\n",
        "[Dictionaries](https://docs.python.org/3/tutorial/datastructures.html#dictionaries)\n",
        "\n",
        "[Source of part of the content](https://github.com/paiml/python_for_datascience)\n",
        "\n",
        "\n"
      ]
    }
  ]
}